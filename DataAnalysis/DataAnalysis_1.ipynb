{
  "nbformat": 4,
  "nbformat_minor": 0,
  "metadata": {
    "colab": {
      "name": "DataAnalysis_1.ipynb",
      "provenance": [],
      "collapsed_sections": [],
      "toc_visible": true,
      "mount_file_id": "1Tcqxkh8tSSCoIM7TUHKlV-b3CW3chRxp",
      "authorship_tag": "ABX9TyMUBiPVMTcnDLZPeYRNHu01",
      "include_colab_link": true
    },
    "kernelspec": {
      "name": "python3",
      "display_name": "Python 3"
    },
    "language_info": {
      "name": "python"
    }
  },
  "cells": [
    {
      "cell_type": "markdown",
      "metadata": {
        "id": "view-in-github",
        "colab_type": "text"
      },
      "source": [
        "<a href=\"https://colab.research.google.com/github/neerajthandayan/Deep_Learning/blob/main/DataAnalysis/DataAnalysis_1.ipynb\" target=\"_parent\"><img src=\"https://colab.research.google.com/assets/colab-badge.svg\" alt=\"Open In Colab\"/></a>"
      ]
    },
    {
      "cell_type": "markdown",
      "metadata": {
        "id": "CNd53OwUNpxV"
      },
      "source": [
        "## Libraries"
      ]
    },
    {
      "cell_type": "code",
      "metadata": {
        "id": "QKecCYQQSBmK"
      },
      "source": [
        "#!pip install -U imbalanced-learn"
      ],
      "execution_count": 1,
      "outputs": []
    },
    {
      "cell_type": "code",
      "metadata": {
        "colab": {
          "base_uri": "https://localhost:8080/"
        },
        "id": "FE-mMfX8TuKm",
        "outputId": "ea299076-67f2-44e1-f8d7-fd55cd8c2b3a"
      },
      "source": [
        "import imblearn\n",
        "print(\"Imbalanced-Learn\", imblearn.__version__)"
      ],
      "execution_count": 2,
      "outputs": [
        {
          "output_type": "stream",
          "text": [
            "Imbalanced-Learn 0.8.0\n"
          ],
          "name": "stdout"
        }
      ]
    },
    {
      "cell_type": "code",
      "metadata": {
        "id": "RVngB7o5LqJh",
        "colab": {
          "base_uri": "https://localhost:8080/"
        },
        "outputId": "18790e3f-409e-4add-fbf6-d61a7ed309dd"
      },
      "source": [
        "# Wrangling\n",
        "import pandas as pd\n",
        "import numpy as np\n",
        "\n",
        "# Visualisation\n",
        "import matplotlib.pyplot as plt\n",
        "\n",
        "# Analysis\n",
        "import statsmodels.api as sm\n",
        "from imblearn.under_sampling import AllKNN\n",
        "from imblearn.over_sampling import SMOTE, RandomOverSampler, SVMSMOTE, ADASYN, KMeansSMOTE, SMOTENC, SMOTEN"
      ],
      "execution_count": 3,
      "outputs": [
        {
          "output_type": "stream",
          "text": [
            "/usr/local/lib/python3.7/dist-packages/statsmodels/tools/_testing.py:19: FutureWarning: pandas.util.testing is deprecated. Use the functions in the public API at pandas.testing instead.\n",
            "  import pandas.util.testing as tm\n"
          ],
          "name": "stderr"
        }
      ]
    },
    {
      "cell_type": "code",
      "metadata": {
        "id": "ZJ27oxOzMAp-",
        "colab": {
          "base_uri": "https://localhost:8080/",
          "height": 509
        },
        "outputId": "1eb50d73-97f0-46e4-947e-d2a714fcde8c"
      },
      "source": [
        "data = pd.read_json('/content/drive/MyDrive/EssexDissertation/ProcessedFiles/NewPrepedData.json')\n",
        "data.head()"
      ],
      "execution_count": 4,
      "outputs": [
        {
          "output_type": "execute_result",
          "data": {
            "text/html": [
              "<div>\n",
              "<style scoped>\n",
              "    .dataframe tbody tr th:only-of-type {\n",
              "        vertical-align: middle;\n",
              "    }\n",
              "\n",
              "    .dataframe tbody tr th {\n",
              "        vertical-align: top;\n",
              "    }\n",
              "\n",
              "    .dataframe thead th {\n",
              "        text-align: right;\n",
              "    }\n",
              "</style>\n",
              "<table border=\"1\" class=\"dataframe\">\n",
              "  <thead>\n",
              "    <tr style=\"text-align: right;\">\n",
              "      <th></th>\n",
              "      <th>id</th>\n",
              "      <th>username</th>\n",
              "      <th>tweet</th>\n",
              "      <th>hashtags</th>\n",
              "      <th>mentions</th>\n",
              "      <th>retweets</th>\n",
              "      <th>likes</th>\n",
              "      <th>caucus</th>\n",
              "      <th>mention_check</th>\n",
              "      <th>cleaned_tweet</th>\n",
              "      <th>pop_score</th>\n",
              "      <th>sentiment</th>\n",
              "      <th>emotion</th>\n",
              "    </tr>\n",
              "  </thead>\n",
              "  <tbody>\n",
              "    <tr>\n",
              "      <th>0</th>\n",
              "      <td>1358846364365553664</td>\n",
              "      <td>william_wragg</td>\n",
              "      <td>So far we have said the NHS will contact you f...</td>\n",
              "      <td>[covid19]</td>\n",
              "      <td>[]</td>\n",
              "      <td>10</td>\n",
              "      <td>11</td>\n",
              "      <td>Gov</td>\n",
              "      <td>0</td>\n",
              "      <td>letter england live try contact vaccine appoin...</td>\n",
              "      <td>-0.154457</td>\n",
              "      <td>NEU</td>\n",
              "      <td>others</td>\n",
              "    </tr>\n",
              "    <tr>\n",
              "      <th>1</th>\n",
              "      <td>1262643695490420736</td>\n",
              "      <td>william_wragg</td>\n",
              "      <td>The symptoms to look out for with #Coronavirus...</td>\n",
              "      <td>[coronavirus, stayalert]</td>\n",
              "      <td>[]</td>\n",
              "      <td>3</td>\n",
              "      <td>8</td>\n",
              "      <td>Gov</td>\n",
              "      <td>0</td>\n",
              "      <td>symptom experience high new temperature contin...</td>\n",
              "      <td>-0.160708</td>\n",
              "      <td>NEU</td>\n",
              "      <td>fear</td>\n",
              "    </tr>\n",
              "    <tr>\n",
              "      <th>2</th>\n",
              "      <td>1241445566577553408</td>\n",
              "      <td>william_wragg</td>\n",
              "      <td>NEW GOVERNMENT LANDING PAGE FOR ALL CORONAVIRU...</td>\n",
              "      <td>[coronavirus, coronavirusuk, covid19, staysafe...</td>\n",
              "      <td>[]</td>\n",
              "      <td>3</td>\n",
              "      <td>6</td>\n",
              "      <td>Gov</td>\n",
              "      <td>0</td>\n",
              "      <td>business new landing health employee governmen...</td>\n",
              "      <td>-0.161958</td>\n",
              "      <td>NEU</td>\n",
              "      <td>others</td>\n",
              "    </tr>\n",
              "    <tr>\n",
              "      <th>3</th>\n",
              "      <td>1242208854286503936</td>\n",
              "      <td>scrabbpembs</td>\n",
              "      <td>Strange and difficult times for our country. W...</td>\n",
              "      <td>[covid19]</td>\n",
              "      <td>[]</td>\n",
              "      <td>4</td>\n",
              "      <td>23</td>\n",
              "      <td>Gov</td>\n",
              "      <td>0</td>\n",
              "      <td>time absolutely strange real home message poli...</td>\n",
              "      <td>-0.150707</td>\n",
              "      <td>NEU</td>\n",
              "      <td>fear</td>\n",
              "    </tr>\n",
              "    <tr>\n",
              "      <th>4</th>\n",
              "      <td>1242124443268386816</td>\n",
              "      <td>scrabbpembs</td>\n",
              "      <td>We can’t have a repeat of what we saw at the w...</td>\n",
              "      <td>[covid19]</td>\n",
              "      <td>[{'screen_name': 'fmwales', 'name': 'mark drak...</td>\n",
              "      <td>1</td>\n",
              "      <td>6</td>\n",
              "      <td>Gov</td>\n",
              "      <td>0</td>\n",
              "      <td>large today parks flock village weekend step w...</td>\n",
              "      <td>-0.163208</td>\n",
              "      <td>NEU</td>\n",
              "      <td>fear</td>\n",
              "    </tr>\n",
              "  </tbody>\n",
              "</table>\n",
              "</div>"
            ],
            "text/plain": [
              "                    id       username  ... sentiment emotion\n",
              "0  1358846364365553664  william_wragg  ...       NEU  others\n",
              "1  1262643695490420736  william_wragg  ...       NEU    fear\n",
              "2  1241445566577553408  william_wragg  ...       NEU  others\n",
              "3  1242208854286503936    scrabbpembs  ...       NEU    fear\n",
              "4  1242124443268386816    scrabbpembs  ...       NEU    fear\n",
              "\n",
              "[5 rows x 13 columns]"
            ]
          },
          "metadata": {},
          "execution_count": 4
        }
      ]
    },
    {
      "cell_type": "markdown",
      "metadata": {
        "id": "yxVlAub_NtoE"
      },
      "source": [
        "## Mentions"
      ]
    },
    {
      "cell_type": "code",
      "metadata": {
        "id": "X0fk_YQg1Fzr"
      },
      "source": [
        "mention = []\n",
        "twtr = []\n",
        "\n",
        "for i in range(len(data)):\n",
        "  un = []\n",
        "  for x in range(len(data['mentions'][i])):\n",
        "    un.append(data['mentions'][i][x]['screen_name'])\n",
        "    for y in list(set(un)):\n",
        "      mention.append(y)\n",
        "      twtr.append(data['caucus'][i])\n",
        "\n",
        "mn_df = pd.DataFrame({'Caucus': twtr,\n",
        "                      'mention': mention}).reset_index(drop=True)"
      ],
      "execution_count": 5,
      "outputs": []
    },
    {
      "cell_type": "code",
      "metadata": {
        "colab": {
          "base_uri": "https://localhost:8080/",
          "height": 0
        },
        "id": "Xuk4ijmdRRgE",
        "outputId": "1e98ccf1-bc14-4fb3-c95d-ba82b8d9b695"
      },
      "source": [
        "mn_df.head()"
      ],
      "execution_count": 6,
      "outputs": [
        {
          "output_type": "execute_result",
          "data": {
            "text/html": [
              "<div>\n",
              "<style scoped>\n",
              "    .dataframe tbody tr th:only-of-type {\n",
              "        vertical-align: middle;\n",
              "    }\n",
              "\n",
              "    .dataframe tbody tr th {\n",
              "        vertical-align: top;\n",
              "    }\n",
              "\n",
              "    .dataframe thead th {\n",
              "        text-align: right;\n",
              "    }\n",
              "</style>\n",
              "<table border=\"1\" class=\"dataframe\">\n",
              "  <thead>\n",
              "    <tr style=\"text-align: right;\">\n",
              "      <th></th>\n",
              "      <th>Caucus</th>\n",
              "      <th>mention</th>\n",
              "    </tr>\n",
              "  </thead>\n",
              "  <tbody>\n",
              "    <tr>\n",
              "      <th>0</th>\n",
              "      <td>Gov</td>\n",
              "      <td>fmwales</td>\n",
              "    </tr>\n",
              "    <tr>\n",
              "      <th>1</th>\n",
              "      <td>Gov</td>\n",
              "      <td>fmwales</td>\n",
              "    </tr>\n",
              "    <tr>\n",
              "      <th>2</th>\n",
              "      <td>Gov</td>\n",
              "      <td>simonhartmp</td>\n",
              "    </tr>\n",
              "    <tr>\n",
              "      <th>3</th>\n",
              "      <td>Gov</td>\n",
              "      <td>h_s_e</td>\n",
              "    </tr>\n",
              "    <tr>\n",
              "      <th>4</th>\n",
              "      <td>Gov</td>\n",
              "      <td>nfusussexsurrey</td>\n",
              "    </tr>\n",
              "  </tbody>\n",
              "</table>\n",
              "</div>"
            ],
            "text/plain": [
              "  Caucus          mention\n",
              "0    Gov          fmwales\n",
              "1    Gov          fmwales\n",
              "2    Gov      simonhartmp\n",
              "3    Gov            h_s_e\n",
              "4    Gov  nfusussexsurrey"
            ]
          },
          "metadata": {},
          "execution_count": 6
        }
      ]
    },
    {
      "cell_type": "code",
      "metadata": {
        "id": "FiWFjkrYNojb"
      },
      "source": [
        "def mention_plot(x,color,title):\n",
        "  fig, ax = plt.subplots(figsize=(10,6))\n",
        "  ax.barh(range(len(x)),x['mention'],color=color)\n",
        "  ax.set_yticks(range(len(x)), minor=False)\n",
        "  ax.set_yticklabels(x['index'], minor=False)\n",
        "  ax.set_xlabel(\"Counts\")\n",
        "  ax.set_ylabel(\"Mentions\")\n",
        "  ax.set_title(title)"
      ],
      "execution_count": 7,
      "outputs": []
    },
    {
      "cell_type": "code",
      "metadata": {
        "colab": {
          "base_uri": "https://localhost:8080/",
          "height": 0
        },
        "id": "LzAkoITCR8qr",
        "outputId": "67e44f91-a624-4006-dcdf-d1683910ecb4"
      },
      "source": [
        "# Governemnt Most Mentions\n",
        "\n",
        "mention_plot(mn_df['mention'].loc[mn_df['Caucus'] == 'Gov'].value_counts().head(10).reset_index(drop=False),\n",
        "             '#0087DC',\n",
        "             'Goverment Mentions - Top 10')"
      ],
      "execution_count": 8,
      "outputs": [
        {
          "output_type": "display_data",
          "data": {
            "image/png": "[encoded data removed]",
            "text/plain": [
              "<Figure size 720x432 with 1 Axes>"
            ]
          },
          "metadata": {
            "needs_background": "light"
          }
        }
      ]
    },
    {
      "cell_type": "code",
      "metadata": {
        "colab": {
          "base_uri": "https://localhost:8080/",
          "height": 0
        },
        "id": "_cb61RN4WoMs",
        "outputId": "63d8273f-d2b5-4ac1-da19-cab105b0a672"
      },
      "source": [
        "# Opposition Most Mentions\n",
        "\n",
        "mention_plot(mn_df['mention'].loc[mn_df['Caucus'] == 'Opp'].value_counts().head(10).reset_index(drop=False),\n",
        "             '#DC241f',\n",
        "             'Opposition Mentions - Top 10')"
      ],
      "execution_count": 9,
      "outputs": [
        {
          "output_type": "display_data",
          "data": {
            "image/png": "[encoded data removed]",
            "text/plain": [
              "<Figure size 720x432 with 1 Axes>"
            ]
          },
          "metadata": {
            "needs_background": "light"
          }
        }
      ]
    },
    {
      "cell_type": "code",
      "metadata": {
        "colab": {
          "base_uri": "https://localhost:8080/",
          "height": 0
        },
        "id": "5JCqtREqXgwW",
        "outputId": "bd15c5b6-d5ba-4138-bee8-d83f0aa6e591"
      },
      "source": [
        "# Overall Most Mentions\n",
        "\n",
        "mention_plot(mn_df['mention'].value_counts().head(10).reset_index(drop=False),\n",
        "             'grey',\n",
        "             'Overall Mentions - Top 10')"
      ],
      "execution_count": 10,
      "outputs": [
        {
          "output_type": "display_data",
          "data": {
            "image/png": "[encoded data removed]",
            "text/plain": [
              "<Figure size 720x432 with 1 Axes>"
            ]
          },
          "metadata": {
            "needs_background": "light"
          }
        }
      ]
    },
    {
      "cell_type": "markdown",
      "metadata": {
        "id": "CbsaswTvW46R"
      },
      "source": [
        "## Sentiment"
      ]
    },
    {
      "cell_type": "markdown",
      "metadata": {
        "id": "dSYEgfuHQyoj"
      },
      "source": [
        "#### Visualization"
      ]
    },
    {
      "cell_type": "code",
      "metadata": {
        "colab": {
          "base_uri": "https://localhost:8080/",
          "height": 203
        },
        "id": "5hMgH1BrXHcm",
        "outputId": "76f5f408-7050-49c2-acd3-81b6da240723"
      },
      "source": [
        "# Creating Sentiment DataFrame\n",
        "sent = data[['caucus','sentiment','pop_score']]\n",
        "sent.head()"
      ],
      "execution_count": 11,
      "outputs": [
        {
          "output_type": "execute_result",
          "data": {
            "text/html": [
              "<div>\n",
              "<style scoped>\n",
              "    .dataframe tbody tr th:only-of-type {\n",
              "        vertical-align: middle;\n",
              "    }\n",
              "\n",
              "    .dataframe tbody tr th {\n",
              "        vertical-align: top;\n",
              "    }\n",
              "\n",
              "    .dataframe thead th {\n",
              "        text-align: right;\n",
              "    }\n",
              "</style>\n",
              "<table border=\"1\" class=\"dataframe\">\n",
              "  <thead>\n",
              "    <tr style=\"text-align: right;\">\n",
              "      <th></th>\n",
              "      <th>caucus</th>\n",
              "      <th>sentiment</th>\n",
              "      <th>pop_score</th>\n",
              "    </tr>\n",
              "  </thead>\n",
              "  <tbody>\n",
              "    <tr>\n",
              "      <th>0</th>\n",
              "      <td>Gov</td>\n",
              "      <td>NEU</td>\n",
              "      <td>-0.154457</td>\n",
              "    </tr>\n",
              "    <tr>\n",
              "      <th>1</th>\n",
              "      <td>Gov</td>\n",
              "      <td>NEU</td>\n",
              "      <td>-0.160708</td>\n",
              "    </tr>\n",
              "    <tr>\n",
              "      <th>2</th>\n",
              "      <td>Gov</td>\n",
              "      <td>NEU</td>\n",
              "      <td>-0.161958</td>\n",
              "    </tr>\n",
              "    <tr>\n",
              "      <th>3</th>\n",
              "      <td>Gov</td>\n",
              "      <td>NEU</td>\n",
              "      <td>-0.150707</td>\n",
              "    </tr>\n",
              "    <tr>\n",
              "      <th>4</th>\n",
              "      <td>Gov</td>\n",
              "      <td>NEU</td>\n",
              "      <td>-0.163208</td>\n",
              "    </tr>\n",
              "  </tbody>\n",
              "</table>\n",
              "</div>"
            ],
            "text/plain": [
              "  caucus sentiment  pop_score\n",
              "0    Gov       NEU  -0.154457\n",
              "1    Gov       NEU  -0.160708\n",
              "2    Gov       NEU  -0.161958\n",
              "3    Gov       NEU  -0.150707\n",
              "4    Gov       NEU  -0.163208"
            ]
          },
          "metadata": {},
          "execution_count": 11
        }
      ]
    },
    {
      "cell_type": "code",
      "metadata": {
        "id": "0QwAvWxEW_4e"
      },
      "source": [
        "# Function for Plotting\n",
        "\n",
        "def sent_plot(data,title,color):\n",
        "  fig, ax = plt.subplots(figsize=(10,6))\n",
        "  ax.bar(data['index'],data['sentiment'], color=color)\n",
        "  ax.set_xticks(range(len(data['sentiment'].unique())), minor=False)\n",
        "  ax.set_xticklabels(data['index'].unique(), minor=False)\n",
        "  ax.set_xlabel(\"Sentiment\")\n",
        "  ax.set_ylabel(\"Frequency\")\n",
        "  ax.set_title(title)"
      ],
      "execution_count": 12,
      "outputs": []
    },
    {
      "cell_type": "code",
      "metadata": {
        "colab": {
          "base_uri": "https://localhost:8080/",
          "height": 404
        },
        "id": "jiIHcEbCX-vE",
        "outputId": "88e72e06-c971-41f4-a5fd-a5d7fbf9c093"
      },
      "source": [
        "# Government Sentiment Break Up\n",
        "sent_plot(sent['sentiment'].loc[sent['caucus'] == 'Gov'].value_counts().to_frame().reset_index(drop=False), \n",
        "          'Government Sentiment Break',\n",
        "          '#0087DC')"
      ],
      "execution_count": 13,
      "outputs": [
        {
          "output_type": "display_data",
          "data": {
            "image/png": "[encoded data removed]",
            "text/plain": [
              "<Figure size 720x432 with 1 Axes>"
            ]
          },
          "metadata": {
            "needs_background": "light"
          }
        }
      ]
    },
    {
      "cell_type": "code",
      "metadata": {
        "colab": {
          "base_uri": "https://localhost:8080/",
          "height": 404
        },
        "id": "g2halqWhZLnk",
        "outputId": "6f1e32bb-5965-47cb-87ef-db760d8f3c10"
      },
      "source": [
        "# Oppsition Sentiment Break Up\n",
        "sent_plot(sent['sentiment'].loc[sent['caucus'] == 'Opp'].value_counts().to_frame().reset_index(drop=False), \n",
        "          'Opposition Sentiment Break',\n",
        "          '#DC241f')"
      ],
      "execution_count": 14,
      "outputs": [
        {
          "output_type": "display_data",
          "data": {
            "image/png": "[encoded data removed]",
            "text/plain": [
              "<Figure size 720x432 with 1 Axes>"
            ]
          },
          "metadata": {
            "needs_background": "light"
          }
        }
      ]
    },
    {
      "cell_type": "code",
      "metadata": {
        "colab": {
          "base_uri": "https://localhost:8080/",
          "height": 421
        },
        "id": "a0Al7Q0nYQFB",
        "outputId": "8f4bf714-1aeb-412c-8d28-c05d2b03d2d6"
      },
      "source": [
        "# Overall Sentiment Break Up\n",
        "\n",
        "sen_gov = sent['sentiment'].loc[sent['caucus'] == 'Gov'].value_counts().to_frame().reset_index(drop=False).sort_values(by='index')\n",
        "sen_opp = sent['sentiment'].loc[sent['caucus'] == 'Opp'].value_counts().to_frame().reset_index(drop=False).sort_values(by='index')\n",
        "\n",
        "fig1, ax1 = plt.subplots(figsize=(7,6))\n",
        "ax1.bar(sen_gov['index'],sen_gov['sentiment'],0.65,color='#0087DC', label=\"Government\")\n",
        "ax1.bar(sen_opp['index'],sen_opp['sentiment'],0.65,color='#DC241f',bottom=sen_gov['sentiment'], label='Opposition')\n",
        "ax1.legend(loc='upper left')\n",
        "ax1.set_xlabel(\"Sentiment\")\n",
        "ax1.set_ylabel(\"Frequency\")\n",
        "ax1.set_title(\"Overall Sentiment Breakup\")"
      ],
      "execution_count": 15,
      "outputs": [
        {
          "output_type": "execute_result",
          "data": {
            "text/plain": [
              "Text(0.5, 1.0, 'Overall Sentiment Breakup')"
            ]
          },
          "metadata": {},
          "execution_count": 15
        },
        {
          "output_type": "display_data",
          "data": {
            "image/png": "[encoded data removed]",
            "text/plain": [
              "<Figure size 504x432 with 1 Axes>"
            ]
          },
          "metadata": {
            "needs_background": "light"
          }
        }
      ]
    },
    {
      "cell_type": "markdown",
      "metadata": {
        "id": "F4y69cjgQ3tg"
      },
      "source": [
        "#### Analysis"
      ]
    },
    {
      "cell_type": "code",
      "metadata": {
        "id": "gLkJs7GZM4S9"
      },
      "source": [
        "def sent_ols(X,y,sampler=None):\n",
        "  if sampler != None:\n",
        "    sampler = sampler\n",
        "    y_res, X_res = sampler.fit_resample(y.values.reshape(-1,1), X)\n",
        "    sent_res = pd.DataFrame({'sentiment':X_res,\n",
        "                            'pop_score':y_res.reshape(1,len(y_res))[0]})\n",
        "  else:\n",
        "    sent_res = pd.DataFrame({'sentiment':X,\n",
        "                             'pop_score':y})\n",
        "\n",
        "  # Overall OLS Model \n",
        "  sent_logit = sm.OLS(sent_res['pop_score'],\n",
        "                      pd.get_dummies(sent_res['sentiment']))\n",
        "  result = sent_logit.fit()\n",
        "  return  print(result.summary())"
      ],
      "execution_count": 16,
      "outputs": []
    },
    {
      "cell_type": "code",
      "metadata": {
        "colab": {
          "base_uri": "https://localhost:8080/"
        },
        "id": "xGIPkB2Cv3-N",
        "outputId": "5315d232-b1ef-4370-fbcd-6d51e0c3a978"
      },
      "source": [
        "# OLS Model for Overall Correlation\n",
        "sent_ols(sent.iloc[:,1],\n",
        "         sent.iloc[:,-1],\n",
        "         AllKNN())"
      ],
      "execution_count": 26,
      "outputs": [
        {
          "output_type": "stream",
          "text": [
            "                            OLS Regression Results                            \n",
            "==============================================================================\n",
            "Dep. Variable:              pop_score   R-squared:                       0.004\n",
            "Model:                            OLS   Adj. R-squared:                  0.003\n",
            "Method:                 Least Squares   F-statistic:                     13.17\n",
            "Date:                Mon, 23 Aug 2021   Prob (F-statistic):           1.96e-06\n",
            "Time:                        16:36:32   Log-Likelihood:                -11153.\n",
            "No. Observations:                6952   AIC:                         2.231e+04\n",
            "Df Residuals:                    6949   BIC:                         2.233e+04\n",
            "Df Model:                           2                                         \n",
            "Covariance Type:            nonrobust                                         \n",
            "==============================================================================\n",
            "                 coef    std err          t      P>|t|      [0.025      0.975]\n",
            "------------------------------------------------------------------------------\n",
            "NEG            0.0999      0.024      4.238      0.000       0.054       0.146\n",
            "NEU           -0.0848      0.028     -3.032      0.002      -0.140      -0.030\n",
            "POS            0.0507      0.024      2.101      0.036       0.003       0.098\n",
            "==============================================================================\n",
            "Omnibus:                    15394.092   Durbin-Watson:                   0.823\n",
            "Prob(Omnibus):                  0.000   Jarque-Bera (JB):         96191030.143\n",
            "Skew:                          20.369   Prob(JB):                         0.00\n",
            "Kurtosis:                     577.818   Cond. No.                         1.19\n",
            "==============================================================================\n",
            "\n",
            "Warnings:\n",
            "[1] Standard Errors assume that the covariance matrix of the errors is correctly specified.\n"
          ],
          "name": "stdout"
        }
      ]
    },
    {
      "cell_type": "code",
      "metadata": {
        "colab": {
          "base_uri": "https://localhost:8080/"
        },
        "id": "4VUWKKRHwJ1g",
        "outputId": "c21dd9d8-6d9f-4f93-f2fe-62e2876118ab"
      },
      "source": [
        "# OLS Model for Gov Tweet Correlation\n",
        "\n",
        "sent_ols(sent['sentiment'].loc[sent['caucus'] == 'Gov'],\n",
        "         sent['pop_score'].loc[sent['caucus'] == 'Gov'],\n",
        "         SMOTEN())"
      ],
      "execution_count": 18,
      "outputs": [
        {
          "output_type": "stream",
          "text": [
            "                            OLS Regression Results                            \n",
            "==============================================================================\n",
            "Dep. Variable:              pop_score   R-squared:                       0.009\n",
            "Model:                            OLS   Adj. R-squared:                  0.008\n",
            "Method:                 Least Squares   F-statistic:                     42.36\n",
            "Date:                Mon, 23 Aug 2021   Prob (F-statistic):           4.83e-19\n",
            "Time:                        16:31:54   Log-Likelihood:                -13508.\n",
            "No. Observations:                9819   AIC:                         2.702e+04\n",
            "Df Residuals:                    9816   BIC:                         2.704e+04\n",
            "Df Model:                           2                                         \n",
            "Covariance Type:            nonrobust                                         \n",
            "==============================================================================\n",
            "                 coef    std err          t      P>|t|      [0.025      0.975]\n",
            "------------------------------------------------------------------------------\n",
            "NEG           -0.1274      0.017     -7.611      0.000      -0.160      -0.095\n",
            "NEU           -0.0948      0.017     -5.659      0.000      -0.128      -0.062\n",
            "POS            0.0755      0.017      4.510      0.000       0.043       0.108\n",
            "==============================================================================\n",
            "Omnibus:                    24660.134   Durbin-Watson:                   0.593\n",
            "Prob(Omnibus):                  0.000   Jarque-Bera (JB):        413185021.151\n",
            "Skew:                          27.587   Prob(JB):                         0.00\n",
            "Kurtosis:                    1006.434   Cond. No.                         1.00\n",
            "==============================================================================\n",
            "\n",
            "Warnings:\n",
            "[1] Standard Errors assume that the covariance matrix of the errors is correctly specified.\n"
          ],
          "name": "stdout"
        }
      ]
    },
    {
      "cell_type": "code",
      "metadata": {
        "colab": {
          "base_uri": "https://localhost:8080/"
        },
        "id": "9OjKoyrD2Y1Y",
        "outputId": "85a6084e-bbd8-426f-9ec9-31a21fd0ac40"
      },
      "source": [
        "# OLS Model for Gov Tweet Correlation\n",
        "\n",
        "sent_ols(sent['sentiment'].loc[sent['caucus'] == 'Opp'],\n",
        "         sent['pop_score'].loc[sent['caucus'] == 'Opp'],\n",
        "         SMOTEN())"
      ],
      "execution_count": 19,
      "outputs": [
        {
          "output_type": "stream",
          "text": [
            "                            OLS Regression Results                            \n",
            "==============================================================================\n",
            "Dep. Variable:              pop_score   R-squared:                       0.015\n",
            "Model:                            OLS   Adj. R-squared:                  0.015\n",
            "Method:                 Least Squares   F-statistic:                     62.11\n",
            "Date:                Mon, 23 Aug 2021   Prob (F-statistic):           1.71e-27\n",
            "Time:                        16:31:55   Log-Likelihood:                -8014.4\n",
            "No. Observations:                7923   AIC:                         1.603e+04\n",
            "Df Residuals:                    7920   BIC:                         1.606e+04\n",
            "Df Model:                           2                                         \n",
            "Covariance Type:            nonrobust                                         \n",
            "==============================================================================\n",
            "                 coef    std err          t      P>|t|      [0.025      0.975]\n",
            "------------------------------------------------------------------------------\n",
            "NEG            0.0824      0.013      6.363      0.000       0.057       0.108\n",
            "NEU           -0.0633      0.013     -4.886      0.000      -0.089      -0.038\n",
            "POS           -0.1143      0.013     -8.823      0.000      -0.140      -0.089\n",
            "==============================================================================\n",
            "Omnibus:                    14285.612   Durbin-Watson:                   1.595\n",
            "Prob(Omnibus):                  0.000   Jarque-Bera (JB):         19652657.243\n",
            "Skew:                          13.158   Prob(JB):                         0.00\n",
            "Kurtosis:                     245.566   Cond. No.                         1.00\n",
            "==============================================================================\n",
            "\n",
            "Warnings:\n",
            "[1] Standard Errors assume that the covariance matrix of the errors is correctly specified.\n"
          ],
          "name": "stdout"
        }
      ]
    },
    {
      "cell_type": "markdown",
      "metadata": {
        "id": "UKqWVqUtZK2m"
      },
      "source": [
        "## Emotion"
      ]
    },
    {
      "cell_type": "markdown",
      "metadata": {
        "id": "gSUXi1lI6V1l"
      },
      "source": [
        "#### Visualisation"
      ]
    },
    {
      "cell_type": "code",
      "metadata": {
        "colab": {
          "base_uri": "https://localhost:8080/",
          "height": 203
        },
        "id": "ZPXz0YxiZKLO",
        "outputId": "31a9c9c9-e4f1-4bcd-bd71-6c71d7a360b0"
      },
      "source": [
        "# Creating Emotion DataFrame\n",
        "emo = data[['caucus','emotion','pop_score']]\n",
        "emo.head()"
      ],
      "execution_count": 28,
      "outputs": [
        {
          "output_type": "execute_result",
          "data": {
            "text/html": [
              "<div>\n",
              "<style scoped>\n",
              "    .dataframe tbody tr th:only-of-type {\n",
              "        vertical-align: middle;\n",
              "    }\n",
              "\n",
              "    .dataframe tbody tr th {\n",
              "        vertical-align: top;\n",
              "    }\n",
              "\n",
              "    .dataframe thead th {\n",
              "        text-align: right;\n",
              "    }\n",
              "</style>\n",
              "<table border=\"1\" class=\"dataframe\">\n",
              "  <thead>\n",
              "    <tr style=\"text-align: right;\">\n",
              "      <th></th>\n",
              "      <th>caucus</th>\n",
              "      <th>emotion</th>\n",
              "      <th>pop_score</th>\n",
              "    </tr>\n",
              "  </thead>\n",
              "  <tbody>\n",
              "    <tr>\n",
              "      <th>0</th>\n",
              "      <td>Gov</td>\n",
              "      <td>others</td>\n",
              "      <td>-0.154457</td>\n",
              "    </tr>\n",
              "    <tr>\n",
              "      <th>1</th>\n",
              "      <td>Gov</td>\n",
              "      <td>fear</td>\n",
              "      <td>-0.160708</td>\n",
              "    </tr>\n",
              "    <tr>\n",
              "      <th>2</th>\n",
              "      <td>Gov</td>\n",
              "      <td>others</td>\n",
              "      <td>-0.161958</td>\n",
              "    </tr>\n",
              "    <tr>\n",
              "      <th>3</th>\n",
              "      <td>Gov</td>\n",
              "      <td>fear</td>\n",
              "      <td>-0.150707</td>\n",
              "    </tr>\n",
              "    <tr>\n",
              "      <th>4</th>\n",
              "      <td>Gov</td>\n",
              "      <td>fear</td>\n",
              "      <td>-0.163208</td>\n",
              "    </tr>\n",
              "  </tbody>\n",
              "</table>\n",
              "</div>"
            ],
            "text/plain": [
              "  caucus emotion  pop_score\n",
              "0    Gov  others  -0.154457\n",
              "1    Gov    fear  -0.160708\n",
              "2    Gov  others  -0.161958\n",
              "3    Gov    fear  -0.150707\n",
              "4    Gov    fear  -0.163208"
            ]
          },
          "metadata": {},
          "execution_count": 28
        }
      ]
    },
    {
      "cell_type": "code",
      "metadata": {
        "id": "reX6OVNnZb_n"
      },
      "source": [
        "# Function for Plotting\n",
        "\n",
        "def emo_plot(data,title,color):\n",
        "  fig, ax = plt.subplots(figsize=(10,6))\n",
        "  ax.bar(data['index'],data['emotion'], color=color)\n",
        "  ax.set_xticks(range(len(data['emotion'].unique())), minor=False)\n",
        "  ax.set_xticklabels(data['index'].unique(), minor=False)\n",
        "  ax.set_xlabel(\"Emotion\")\n",
        "  ax.set_ylabel(\"Frequency\")\n",
        "  ax.set_title(title)"
      ],
      "execution_count": 29,
      "outputs": []
    },
    {
      "cell_type": "code",
      "metadata": {
        "colab": {
          "base_uri": "https://localhost:8080/",
          "height": 404
        },
        "id": "UhkswrcqZw2K",
        "outputId": "153f8549-e90d-4197-cf24-f2fe03a4ab5e"
      },
      "source": [
        "# Government Sentiment Break Up\n",
        "emo_plot(emo['emotion'].loc[emo['caucus'] == 'Gov'].value_counts().to_frame().reset_index(drop=False), \n",
        "         'Government Emotion Break',\n",
        "         '#0087DC')"
      ],
      "execution_count": 30,
      "outputs": [
        {
          "output_type": "display_data",
          "data": {
            "image/png": "[encoded data removed]",
            "text/plain": [
              "<Figure size 720x432 with 1 Axes>"
            ]
          },
          "metadata": {
            "needs_background": "light"
          }
        }
      ]
    },
    {
      "cell_type": "code",
      "metadata": {
        "colab": {
          "base_uri": "https://localhost:8080/",
          "height": 404
        },
        "id": "APf-g0QqaJl9",
        "outputId": "bca5ea4a-c89e-45fc-ba39-677a4c376139"
      },
      "source": [
        "# Opposition Sentiment Break Up\n",
        "emo_plot(emo['emotion'].loc[emo['caucus'] == 'Opp'].value_counts().to_frame().reset_index(drop=False), \n",
        "         'Opposition Emotion Break',\n",
        "         '#DC241f')"
      ],
      "execution_count": 33,
      "outputs": [
        {
          "output_type": "display_data",
          "data": {
            "image/png": "[encoded data removed]",
            "text/plain": [
              "<Figure size 720x432 with 1 Axes>"
            ]
          },
          "metadata": {
            "needs_background": "light"
          }
        }
      ]
    },
    {
      "cell_type": "code",
      "metadata": {
        "colab": {
          "base_uri": "https://localhost:8080/",
          "height": 421
        },
        "id": "9MtXHN1zabkY",
        "outputId": "83f55d17-7c10-4a7f-e321-e59fe8cf2e9b"
      },
      "source": [
        "# Overall Emotion Break Up\n",
        "\n",
        "emo_gov = emo['emotion'].loc[emo['caucus'] == 'Gov'].value_counts().to_frame().reset_index(drop=False).sort_values(by='index')\n",
        "emo_opp = emo['emotion'].loc[emo['caucus'] == 'Opp'].value_counts().to_frame().reset_index(drop=False).sort_values(by='index')\n",
        "\n",
        "fig1, ax1 = plt.subplots(figsize=(11,6))\n",
        "ax1.bar(emo_gov['index'],emo_gov['emotion'],0.65,color='#0087DC', label=\"Government\")\n",
        "ax1.bar(emo_opp['index'],emo_opp['emotion'],0.65,color='#DC241f',bottom=emo_gov['emotion'], label='Opposition')\n",
        "ax1.legend(loc='upper left')\n",
        "ax1.set_xlabel(\"Emotion\")\n",
        "ax1.set_ylabel(\"Frequency\")\n",
        "ax1.set_title(\"Overall Emotion Breakup\")"
      ],
      "execution_count": 34,
      "outputs": [
        {
          "output_type": "execute_result",
          "data": {
            "text/plain": [
              "Text(0.5, 1.0, 'Overall Emotion Breakup')"
            ]
          },
          "metadata": {},
          "execution_count": 34
        },
        {
          "output_type": "display_data",
          "data": {
            "image/png": "[encoded data removed]",
            "text/plain": [
              "<Figure size 792x432 with 1 Axes>"
            ]
          },
          "metadata": {
            "needs_background": "light"
          }
        }
      ]
    },
    {
      "cell_type": "markdown",
      "metadata": {
        "id": "U9tT4jwI2yFO"
      },
      "source": [
        "#### Analysis"
      ]
    },
    {
      "cell_type": "code",
      "metadata": {
        "id": "9R6fbXCx2xce"
      },
      "source": [
        "def emo_ols(X,y,sampler=None):\n",
        "  if sampler != None:\n",
        "    sampler = sampler\n",
        "    y_res, X_res = sampler.fit_resample(y.values.reshape(-1,1), X)\n",
        "    emo_res = pd.DataFrame({'emotion':X_res,\n",
        "                            'pop_score':y_res.reshape(1,len(y_res))[0]})\n",
        "  else:\n",
        "    emo_res = pd.DataFrame({'emotion':X,\n",
        "                             'pop_score':y})\n",
        "\n",
        "  # Overall OLS Model \n",
        "  sent_logit = sm.OLS(emo_res['pop_score'],\n",
        "                      pd.get_dummies(emo_res['emotion']))\n",
        "  result = sent_logit.fit()\n",
        "  return  print(result.summary())"
      ],
      "execution_count": 35,
      "outputs": []
    },
    {
      "cell_type": "code",
      "metadata": {
        "colab": {
          "base_uri": "https://localhost:8080/"
        },
        "id": "GTyFTJQQ4RJz",
        "outputId": "f1b8cebb-bfc0-4dc2-e527-8986f48a9f18"
      },
      "source": [
        "# Overall Emotion OLS Modle\n",
        "emo_ols(emo.iloc[:,1],\n",
        "        emo.iloc[:,-1],\n",
        "        SMOTE())"
      ],
      "execution_count": 39,
      "outputs": [
        {
          "output_type": "stream",
          "text": [
            "                            OLS Regression Results                            \n",
            "==============================================================================\n",
            "Dep. Variable:              pop_score   R-squared:                       0.027\n",
            "Model:                            OLS   Adj. R-squared:                  0.027\n",
            "Method:                 Least Squares   F-statistic:                     210.2\n",
            "Date:                Mon, 23 Aug 2021   Prob (F-statistic):          1.82e-265\n",
            "Time:                        16:41:44   Log-Likelihood:                -65287.\n",
            "No. Observations:               44646   AIC:                         1.306e+05\n",
            "Df Residuals:                   44639   BIC:                         1.306e+05\n",
            "Df Model:                           6                                         \n",
            "Covariance Type:            nonrobust                                         \n",
            "==============================================================================\n",
            "                 coef    std err          t      P>|t|      [0.025      0.975]\n",
            "------------------------------------------------------------------------------\n",
            "anger          0.4067      0.013     31.102      0.000       0.381       0.432\n",
            "disgust        0.2358      0.013     18.030      0.000       0.210       0.261\n",
            "fear          -0.0658      0.013     -5.028      0.000      -0.091      -0.040\n",
            "joy            0.0473      0.013      3.617      0.000       0.022       0.073\n",
            "others        -0.0277      0.013     -2.120      0.034      -0.053      -0.002\n",
            "sadness       -0.0360      0.013     -2.756      0.006      -0.062      -0.010\n",
            "surprise      -0.1181      0.013     -9.027      0.000      -0.144      -0.092\n",
            "==============================================================================\n",
            "Omnibus:                    79792.811   Durbin-Watson:                   1.724\n",
            "Prob(Omnibus):                  0.000   Jarque-Bera (JB):        156113641.510\n",
            "Skew:                          12.841   Prob(JB):                         0.00\n",
            "Kurtosis:                     291.550   Cond. No.                         1.00\n",
            "==============================================================================\n",
            "\n",
            "Warnings:\n",
            "[1] Standard Errors assume that the covariance matrix of the errors is correctly specified.\n"
          ],
          "name": "stdout"
        }
      ]
    },
    {
      "cell_type": "code",
      "metadata": {
        "colab": {
          "base_uri": "https://localhost:8080/"
        },
        "id": "hY8UApRP4675",
        "outputId": "647f927b-b696-444c-e9cc-70ab2ccbb51c"
      },
      "source": [
        "# Government Emotion OLS Model\n",
        "\n",
        "emo_ols(emo['emotion'].loc[emo['caucus'] == 'Gov'],\n",
        "        emo['pop_score'].loc[emo['caucus'] == 'Gov'],\n",
        "        RandomOverSampler())"
      ],
      "execution_count": 51,
      "outputs": [
        {
          "output_type": "stream",
          "text": [
            "                            OLS Regression Results                            \n",
            "==============================================================================\n",
            "Dep. Variable:              pop_score   R-squared:                       0.011\n",
            "Model:                            OLS   Adj. R-squared:                  0.011\n",
            "Method:                 Least Squares   F-statistic:                     40.68\n",
            "Date:                Mon, 23 Aug 2021   Prob (F-statistic):           1.45e-49\n",
            "Time:                        16:45:53   Log-Likelihood:                -29880.\n",
            "No. Observations:               21966   AIC:                         5.977e+04\n",
            "Df Residuals:                   21959   BIC:                         5.983e+04\n",
            "Df Model:                           6                                         \n",
            "Covariance Type:            nonrobust                                         \n",
            "==============================================================================\n",
            "                 coef    std err          t      P>|t|      [0.025      0.975]\n",
            "------------------------------------------------------------------------------\n",
            "anger         -0.1379      0.017     -8.192      0.000      -0.171      -0.105\n",
            "disgust        0.1073      0.017      6.374      0.000       0.074       0.140\n",
            "fear          -0.0085      0.017     -0.504      0.614      -0.041       0.025\n",
            "joy            0.1191      0.017      7.071      0.000       0.086       0.152\n",
            "others        -0.0055      0.017     -0.326      0.744      -0.038       0.028\n",
            "sadness       -0.0787      0.017     -4.672      0.000      -0.112      -0.046\n",
            "surprise      -0.1464      0.017     -8.692      0.000      -0.179      -0.113\n",
            "==============================================================================\n",
            "Omnibus:                    53847.958   Durbin-Watson:                   1.361\n",
            "Prob(Omnibus):                  0.000   Jarque-Bera (JB):        870104617.577\n",
            "Skew:                          26.066   Prob(JB):                         0.00\n",
            "Kurtosis:                     976.631   Cond. No.                         1.00\n",
            "==============================================================================\n",
            "\n",
            "Warnings:\n",
            "[1] Standard Errors assume that the covariance matrix of the errors is correctly specified.\n"
          ],
          "name": "stdout"
        }
      ]
    },
    {
      "cell_type": "code",
      "metadata": {
        "colab": {
          "base_uri": "https://localhost:8080/"
        },
        "id": "zIJ9vQBL57dY",
        "outputId": "c2fd5ea0-55ad-4b30-ab6e-faff3f36b9d3"
      },
      "source": [
        "# Government Emotion OLS Model\n",
        "\n",
        "emo_ols(emo['emotion'].loc[emo['caucus'] == 'Opp'],\n",
        "        emo['pop_score'].loc[emo['caucus'] == 'Opp'],\n",
        "        RandomOverSampler())"
      ],
      "execution_count": 52,
      "outputs": [
        {
          "output_type": "stream",
          "text": [
            "                            OLS Regression Results                            \n",
            "==============================================================================\n",
            "Dep. Variable:              pop_score   R-squared:                       0.059\n",
            "Model:                            OLS   Adj. R-squared:                  0.058\n",
            "Method:                 Least Squares   F-statistic:                     235.6\n",
            "Date:                Mon, 23 Aug 2021   Prob (F-statistic):          3.58e-293\n",
            "Time:                        16:46:18   Log-Likelihood:                -33391.\n",
            "No. Observations:               22680   AIC:                         6.680e+04\n",
            "Df Residuals:                   22673   BIC:                         6.685e+04\n",
            "Df Model:                           6                                         \n",
            "Covariance Type:            nonrobust                                         \n",
            "==============================================================================\n",
            "                 coef    std err          t      P>|t|      [0.025      0.975]\n",
            "------------------------------------------------------------------------------\n",
            "anger          0.6769      0.019     36.521      0.000       0.641       0.713\n",
            "disgust        0.2296      0.019     12.389      0.000       0.193       0.266\n",
            "fear          -0.0922      0.019     -4.973      0.000      -0.128      -0.056\n",
            "joy           -0.1099      0.019     -5.932      0.000      -0.146      -0.074\n",
            "others        -0.0492      0.019     -2.657      0.008      -0.086      -0.013\n",
            "sadness        0.0063      0.019      0.340      0.734      -0.030       0.043\n",
            "surprise      -0.0592      0.019     -3.192      0.001      -0.095      -0.023\n",
            "==============================================================================\n",
            "Omnibus:                    30530.175   Durbin-Watson:                   1.970\n",
            "Prob(Omnibus):                  0.000   Jarque-Bera (JB):          5991974.178\n",
            "Skew:                           7.871   Prob(JB):                         0.00\n",
            "Kurtosis:                      81.057   Cond. No.                         1.00\n",
            "==============================================================================\n",
            "\n",
            "Warnings:\n",
            "[1] Standard Errors assume that the covariance matrix of the errors is correctly specified.\n"
          ],
          "name": "stdout"
        }
      ]
    }
  ]
}