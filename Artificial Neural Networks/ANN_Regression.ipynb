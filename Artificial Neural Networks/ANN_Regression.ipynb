{
  "nbformat": 4,
  "nbformat_minor": 0,
  "metadata": {
    "colab": {
      "name": "ANN_Regression.ipynb",
      "provenance": [],
      "toc_visible": true,
      "mount_file_id": "https://github.com/neerajthandayan/Deep_Learning/blob/main/Artificial%20Neural%20Networks/ANN_Regression.ipynb",
      "authorship_tag": "ABX9TyOgp0GwcRjxSz9dxgzwPRt2",
      "include_colab_link": true
    },
    "kernelspec": {
      "name": "python3",
      "display_name": "Python 3"
    },
    "accelerator": "GPU"
  },
  "cells": [
    {
      "cell_type": "markdown",
      "metadata": {
        "id": "view-in-github",
        "colab_type": "text"
      },
      "source": [
        "<a href=\"https://colab.research.google.com/github/neerajthandayan/Deep_Learning/blob/main/Artificial%20Neural%20Networks/ANN_Regression.ipynb\" target=\"_parent\"><img src=\"https://colab.research.google.com/assets/colab-badge.svg\" alt=\"Open In Colab\"/></a>"
      ]
    },
    {
      "cell_type": "markdown",
      "metadata": {
        "id": "2SU6bMikBeMj"
      },
      "source": [
        "# Artificial Neural Network - Regression"
      ]
    },
    {
      "cell_type": "markdown",
      "metadata": {
        "id": "SO9XSrehBjNo"
      },
      "source": [
        "###### Importing Libraries"
      ]
    },
    {
      "cell_type": "code",
      "metadata": {
        "id": "7o6qQiERBosC"
      },
      "source": [
        "import pandas as pd\r\n",
        "import numpy as np\r\n",
        "import tensorflow as tf"
      ],
      "execution_count": 33,
      "outputs": []
    },
    {
      "cell_type": "code",
      "metadata": {
        "id": "xTpgtjAmB6SK",
        "outputId": "b91452e2-f583-4748-f3db-b2b82febfb9c",
        "colab": {
          "base_uri": "https://localhost:8080/",
          "height": 35
        }
      },
      "source": [
        "tf.__version__"
      ],
      "execution_count": 34,
      "outputs": [
        {
          "output_type": "execute_result",
          "data": {
            "application/vnd.google.colaboratory.intrinsic+json": {
              "type": "string"
            },
            "text/plain": [
              "'2.4.1'"
            ]
          },
          "metadata": {
            "tags": []
          },
          "execution_count": 34
        }
      ]
    },
    {
      "cell_type": "markdown",
      "metadata": {
        "id": "I6Y7A5cOB98p"
      },
      "source": [
        "#### Part - 1: Importing & Prepeocessing Data"
      ]
    },
    {
      "cell_type": "code",
      "metadata": {
        "id": "T9rWKzPpCEVb",
        "outputId": "a21ba7fe-fee4-4380-bdf9-bf20a8003d2b",
        "colab": {
          "base_uri": "https://localhost:8080/",
          "height": 195
        }
      },
      "source": [
        "# Importing Data Set\r\n",
        "data = pd.read_excel(\"/content/drive/MyDrive/Datasets/Folds5x2_pp.xlsx\")\r\n",
        "data.head(5)"
      ],
      "execution_count": 35,
      "outputs": [
        {
          "output_type": "execute_result",
          "data": {
            "text/html": [
              "<div>\n",
              "<style scoped>\n",
              "    .dataframe tbody tr th:only-of-type {\n",
              "        vertical-align: middle;\n",
              "    }\n",
              "\n",
              "    .dataframe tbody tr th {\n",
              "        vertical-align: top;\n",
              "    }\n",
              "\n",
              "    .dataframe thead th {\n",
              "        text-align: right;\n",
              "    }\n",
              "</style>\n",
              "<table border=\"1\" class=\"dataframe\">\n",
              "  <thead>\n",
              "    <tr style=\"text-align: right;\">\n",
              "      <th></th>\n",
              "      <th>AT</th>\n",
              "      <th>V</th>\n",
              "      <th>AP</th>\n",
              "      <th>RH</th>\n",
              "      <th>PE</th>\n",
              "    </tr>\n",
              "  </thead>\n",
              "  <tbody>\n",
              "    <tr>\n",
              "      <th>0</th>\n",
              "      <td>14.96</td>\n",
              "      <td>41.76</td>\n",
              "      <td>1024.07</td>\n",
              "      <td>73.17</td>\n",
              "      <td>463.26</td>\n",
              "    </tr>\n",
              "    <tr>\n",
              "      <th>1</th>\n",
              "      <td>25.18</td>\n",
              "      <td>62.96</td>\n",
              "      <td>1020.04</td>\n",
              "      <td>59.08</td>\n",
              "      <td>444.37</td>\n",
              "    </tr>\n",
              "    <tr>\n",
              "      <th>2</th>\n",
              "      <td>5.11</td>\n",
              "      <td>39.40</td>\n",
              "      <td>1012.16</td>\n",
              "      <td>92.14</td>\n",
              "      <td>488.56</td>\n",
              "    </tr>\n",
              "    <tr>\n",
              "      <th>3</th>\n",
              "      <td>20.86</td>\n",
              "      <td>57.32</td>\n",
              "      <td>1010.24</td>\n",
              "      <td>76.64</td>\n",
              "      <td>446.48</td>\n",
              "    </tr>\n",
              "    <tr>\n",
              "      <th>4</th>\n",
              "      <td>10.82</td>\n",
              "      <td>37.50</td>\n",
              "      <td>1009.23</td>\n",
              "      <td>96.62</td>\n",
              "      <td>473.90</td>\n",
              "    </tr>\n",
              "  </tbody>\n",
              "</table>\n",
              "</div>"
            ],
            "text/plain": [
              "      AT      V       AP     RH      PE\n",
              "0  14.96  41.76  1024.07  73.17  463.26\n",
              "1  25.18  62.96  1020.04  59.08  444.37\n",
              "2   5.11  39.40  1012.16  92.14  488.56\n",
              "3  20.86  57.32  1010.24  76.64  446.48\n",
              "4  10.82  37.50  1009.23  96.62  473.90"
            ]
          },
          "metadata": {
            "tags": []
          },
          "execution_count": 35
        }
      ]
    },
    {
      "cell_type": "code",
      "metadata": {
        "id": "CQ-VM6BJGpak"
      },
      "source": [
        "# Creating X and y values\r\n",
        "\r\n",
        "X = data.iloc[:,:-1].values\r\n",
        "y = data.iloc[:,-1].values"
      ],
      "execution_count": 36,
      "outputs": []
    },
    {
      "cell_type": "code",
      "metadata": {
        "id": "hDbILukHGRMJ"
      },
      "source": [
        "# Creating Test Train Split\r\n",
        "\r\n",
        "from sklearn.model_selection import train_test_split\r\n",
        "X_train, X_test, y_trian, y_test = train_test_split(X,y,test_size=0.2,random_state=42)"
      ],
      "execution_count": 37,
      "outputs": []
    },
    {
      "cell_type": "code",
      "metadata": {
        "id": "oT9TIRiAI8vb"
      },
      "source": [
        "# Scaling Data\r\n",
        "\r\n",
        "#from sklearn.preprocessing import StandardScaler\r\n",
        "\r\n",
        "#sc = StandardScaler()\r\n",
        "#X_train = sc.fit_transform(X_train)\r\n",
        "#X_test = sc.transform(X_test)"
      ],
      "execution_count": 38,
      "outputs": []
    },
    {
      "cell_type": "markdown",
      "metadata": {
        "id": "8PgNeSYlIwua"
      },
      "source": [
        "#### Part - 2: Building ANN"
      ]
    },
    {
      "cell_type": "markdown",
      "metadata": {
        "id": "FIOj-m6SKQRl"
      },
      "source": [
        "###### Initialising ANN"
      ]
    },
    {
      "cell_type": "code",
      "metadata": {
        "id": "BOAi9IX8I0X4"
      },
      "source": [
        "ann = tf.keras.models.Sequential()"
      ],
      "execution_count": 39,
      "outputs": []
    },
    {
      "cell_type": "markdown",
      "metadata": {
        "id": "GSj-RCMTMlex"
      },
      "source": [
        "###### Adding Input Layer and First Hidden Layer"
      ]
    },
    {
      "cell_type": "code",
      "metadata": {
        "id": "CR1u4OfJMp4Z"
      },
      "source": [
        "ann.add(tf.keras.layers.Dense(units=6,activation='relu'))"
      ],
      "execution_count": 40,
      "outputs": []
    },
    {
      "cell_type": "markdown",
      "metadata": {
        "id": "2DjLTU-oM33I"
      },
      "source": [
        "###### Adding Second Hidden Layer"
      ]
    },
    {
      "cell_type": "code",
      "metadata": {
        "id": "iv_LAXOnM97q"
      },
      "source": [
        "ann.add(tf.keras.layers.Dense(units=6,activation='relu'))"
      ],
      "execution_count": 41,
      "outputs": []
    },
    {
      "cell_type": "markdown",
      "metadata": {
        "id": "Yo5WWhfNNBwA"
      },
      "source": [
        "###### Adding Output Layer"
      ]
    },
    {
      "cell_type": "code",
      "metadata": {
        "id": "_m6anjIdNA8_"
      },
      "source": [
        "ann.add(tf.keras.layers.Dense(units=1))\r\n",
        "# No activation function used because spefic value required for regression and not binary output."
      ],
      "execution_count": 42,
      "outputs": []
    },
    {
      "cell_type": "markdown",
      "metadata": {
        "id": "q3xftJUgNmPV"
      },
      "source": [
        "###### Compiling The ANN"
      ]
    },
    {
      "cell_type": "code",
      "metadata": {
        "id": "c4sNgsseNpJA"
      },
      "source": [
        "ann.compile(optimizer = 'adam', loss = 'mean_squared_error')"
      ],
      "execution_count": 43,
      "outputs": []
    },
    {
      "cell_type": "markdown",
      "metadata": {
        "id": "hUIMEwxAOcCj"
      },
      "source": [
        "#### Part - 3: Training the ANN"
      ]
    },
    {
      "cell_type": "code",
      "metadata": {
        "id": "3s4WRrcWObEb",
        "outputId": "e53922d8-1ada-4974-8147-871074523b51",
        "colab": {
          "base_uri": "https://localhost:8080/"
        }
      },
      "source": [
        "ann.fit(X_train,y_trian, batch_size=32, epochs=100)"
      ],
      "execution_count": 44,
      "outputs": [
        {
          "output_type": "stream",
          "text": [
            "Epoch 1/100\n",
            "240/240 [==============================] - 4s 2ms/step - loss: 45157.3956\n",
            "Epoch 2/100\n",
            "240/240 [==============================] - 0s 2ms/step - loss: 174.2755\n",
            "Epoch 3/100\n",
            "240/240 [==============================] - 0s 2ms/step - loss: 150.7478\n",
            "Epoch 4/100\n",
            "240/240 [==============================] - 0s 2ms/step - loss: 128.9903\n",
            "Epoch 5/100\n",
            "240/240 [==============================] - 0s 2ms/step - loss: 104.6394\n",
            "Epoch 6/100\n",
            "240/240 [==============================] - 0s 2ms/step - loss: 77.6230\n",
            "Epoch 7/100\n",
            "240/240 [==============================] - 0s 2ms/step - loss: 58.4706\n",
            "Epoch 8/100\n",
            "240/240 [==============================] - 0s 2ms/step - loss: 45.9188\n",
            "Epoch 9/100\n",
            "240/240 [==============================] - 0s 2ms/step - loss: 42.7526\n",
            "Epoch 10/100\n",
            "240/240 [==============================] - 0s 2ms/step - loss: 41.2969\n",
            "Epoch 11/100\n",
            "240/240 [==============================] - 0s 2ms/step - loss: 41.9175\n",
            "Epoch 12/100\n",
            "240/240 [==============================] - 0s 2ms/step - loss: 40.0374\n",
            "Epoch 13/100\n",
            "240/240 [==============================] - 0s 2ms/step - loss: 39.1439\n",
            "Epoch 14/100\n",
            "240/240 [==============================] - 0s 2ms/step - loss: 38.1409\n",
            "Epoch 15/100\n",
            "240/240 [==============================] - 0s 2ms/step - loss: 37.9612\n",
            "Epoch 16/100\n",
            "240/240 [==============================] - 0s 2ms/step - loss: 37.4244\n",
            "Epoch 17/100\n",
            "240/240 [==============================] - 0s 2ms/step - loss: 37.4315\n",
            "Epoch 18/100\n",
            "240/240 [==============================] - 0s 2ms/step - loss: 36.0852\n",
            "Epoch 19/100\n",
            "240/240 [==============================] - 0s 2ms/step - loss: 35.2376\n",
            "Epoch 20/100\n",
            "240/240 [==============================] - 0s 2ms/step - loss: 34.0561\n",
            "Epoch 21/100\n",
            "240/240 [==============================] - 0s 2ms/step - loss: 32.7870\n",
            "Epoch 22/100\n",
            "240/240 [==============================] - 0s 2ms/step - loss: 33.6476\n",
            "Epoch 23/100\n",
            "240/240 [==============================] - 0s 2ms/step - loss: 33.0756\n",
            "Epoch 24/100\n",
            "240/240 [==============================] - 0s 2ms/step - loss: 32.5438\n",
            "Epoch 25/100\n",
            "240/240 [==============================] - 0s 2ms/step - loss: 31.9012\n",
            "Epoch 26/100\n",
            "240/240 [==============================] - 0s 2ms/step - loss: 30.1972\n",
            "Epoch 27/100\n",
            "240/240 [==============================] - 0s 2ms/step - loss: 30.8930\n",
            "Epoch 28/100\n",
            "240/240 [==============================] - 0s 2ms/step - loss: 30.0636\n",
            "Epoch 29/100\n",
            "240/240 [==============================] - 0s 2ms/step - loss: 30.4344\n",
            "Epoch 30/100\n",
            "240/240 [==============================] - 0s 2ms/step - loss: 28.2652\n",
            "Epoch 31/100\n",
            "240/240 [==============================] - 0s 2ms/step - loss: 29.2389\n",
            "Epoch 32/100\n",
            "240/240 [==============================] - 0s 2ms/step - loss: 28.0331\n",
            "Epoch 33/100\n",
            "240/240 [==============================] - 0s 2ms/step - loss: 29.1760\n",
            "Epoch 34/100\n",
            "240/240 [==============================] - 0s 2ms/step - loss: 29.3239\n",
            "Epoch 35/100\n",
            "240/240 [==============================] - 0s 2ms/step - loss: 28.4233\n",
            "Epoch 36/100\n",
            "240/240 [==============================] - 0s 2ms/step - loss: 27.1578\n",
            "Epoch 37/100\n",
            "240/240 [==============================] - 0s 2ms/step - loss: 27.0362\n",
            "Epoch 38/100\n",
            "240/240 [==============================] - 0s 2ms/step - loss: 28.1532\n",
            "Epoch 39/100\n",
            "240/240 [==============================] - 0s 2ms/step - loss: 26.7801\n",
            "Epoch 40/100\n",
            "240/240 [==============================] - 0s 2ms/step - loss: 26.5239\n",
            "Epoch 41/100\n",
            "240/240 [==============================] - 0s 2ms/step - loss: 27.9388\n",
            "Epoch 42/100\n",
            "240/240 [==============================] - 0s 2ms/step - loss: 26.0715\n",
            "Epoch 43/100\n",
            "240/240 [==============================] - 0s 2ms/step - loss: 28.0720\n",
            "Epoch 44/100\n",
            "240/240 [==============================] - 0s 2ms/step - loss: 27.7173\n",
            "Epoch 45/100\n",
            "240/240 [==============================] - 0s 2ms/step - loss: 26.3040\n",
            "Epoch 46/100\n",
            "240/240 [==============================] - 0s 2ms/step - loss: 28.0959\n",
            "Epoch 47/100\n",
            "240/240 [==============================] - 0s 2ms/step - loss: 28.7552\n",
            "Epoch 48/100\n",
            "240/240 [==============================] - 0s 2ms/step - loss: 26.8040\n",
            "Epoch 49/100\n",
            "240/240 [==============================] - 0s 2ms/step - loss: 27.0619\n",
            "Epoch 50/100\n",
            "240/240 [==============================] - 0s 2ms/step - loss: 29.7195\n",
            "Epoch 51/100\n",
            "240/240 [==============================] - 0s 2ms/step - loss: 29.6329\n",
            "Epoch 52/100\n",
            "240/240 [==============================] - 0s 2ms/step - loss: 27.1594\n",
            "Epoch 53/100\n",
            "240/240 [==============================] - 0s 2ms/step - loss: 25.4768\n",
            "Epoch 54/100\n",
            "240/240 [==============================] - 0s 2ms/step - loss: 25.9858\n",
            "Epoch 55/100\n",
            "240/240 [==============================] - 0s 2ms/step - loss: 27.2043\n",
            "Epoch 56/100\n",
            "240/240 [==============================] - 0s 2ms/step - loss: 27.6392\n",
            "Epoch 57/100\n",
            "240/240 [==============================] - 0s 2ms/step - loss: 26.6498\n",
            "Epoch 58/100\n",
            "240/240 [==============================] - 0s 2ms/step - loss: 27.4615\n",
            "Epoch 59/100\n",
            "240/240 [==============================] - 0s 2ms/step - loss: 27.0405\n",
            "Epoch 60/100\n",
            "240/240 [==============================] - 0s 2ms/step - loss: 27.0717\n",
            "Epoch 61/100\n",
            "240/240 [==============================] - 0s 2ms/step - loss: 26.3789\n",
            "Epoch 62/100\n",
            "240/240 [==============================] - 0s 2ms/step - loss: 27.2269\n",
            "Epoch 63/100\n",
            "240/240 [==============================] - 0s 2ms/step - loss: 26.0875\n",
            "Epoch 64/100\n",
            "240/240 [==============================] - 0s 2ms/step - loss: 28.6404\n",
            "Epoch 65/100\n",
            "240/240 [==============================] - 0s 2ms/step - loss: 26.2075\n",
            "Epoch 66/100\n",
            "240/240 [==============================] - 0s 2ms/step - loss: 29.9322\n",
            "Epoch 67/100\n",
            "240/240 [==============================] - 0s 2ms/step - loss: 28.5021\n",
            "Epoch 68/100\n",
            "240/240 [==============================] - 0s 2ms/step - loss: 26.4721\n",
            "Epoch 69/100\n",
            "240/240 [==============================] - 0s 2ms/step - loss: 27.0578\n",
            "Epoch 70/100\n",
            "240/240 [==============================] - 0s 2ms/step - loss: 26.9977\n",
            "Epoch 71/100\n",
            "240/240 [==============================] - 0s 2ms/step - loss: 27.5840\n",
            "Epoch 72/100\n",
            "240/240 [==============================] - 0s 2ms/step - loss: 26.4136\n",
            "Epoch 73/100\n",
            "240/240 [==============================] - 0s 2ms/step - loss: 26.8183\n",
            "Epoch 74/100\n",
            "240/240 [==============================] - 0s 2ms/step - loss: 28.5475\n",
            "Epoch 75/100\n",
            "240/240 [==============================] - 0s 2ms/step - loss: 27.6974\n",
            "Epoch 76/100\n",
            "240/240 [==============================] - 0s 2ms/step - loss: 26.5461\n",
            "Epoch 77/100\n",
            "240/240 [==============================] - 0s 2ms/step - loss: 26.2427\n",
            "Epoch 78/100\n",
            "240/240 [==============================] - 0s 2ms/step - loss: 27.3214\n",
            "Epoch 79/100\n",
            "240/240 [==============================] - 0s 2ms/step - loss: 27.2417\n",
            "Epoch 80/100\n",
            "240/240 [==============================] - 0s 2ms/step - loss: 26.6201\n",
            "Epoch 81/100\n",
            "240/240 [==============================] - 0s 2ms/step - loss: 27.8551\n",
            "Epoch 82/100\n",
            "240/240 [==============================] - 0s 2ms/step - loss: 26.4914\n",
            "Epoch 83/100\n",
            "240/240 [==============================] - 0s 2ms/step - loss: 28.3064\n",
            "Epoch 84/100\n",
            "240/240 [==============================] - 0s 2ms/step - loss: 27.7632\n",
            "Epoch 85/100\n",
            "240/240 [==============================] - 0s 2ms/step - loss: 26.7826\n",
            "Epoch 86/100\n",
            "240/240 [==============================] - 0s 2ms/step - loss: 28.0462\n",
            "Epoch 87/100\n",
            "240/240 [==============================] - 0s 2ms/step - loss: 28.1941\n",
            "Epoch 88/100\n",
            "240/240 [==============================] - 0s 2ms/step - loss: 27.2211\n",
            "Epoch 89/100\n",
            "240/240 [==============================] - 0s 2ms/step - loss: 27.0723\n",
            "Epoch 90/100\n",
            "240/240 [==============================] - 0s 2ms/step - loss: 27.4243\n",
            "Epoch 91/100\n",
            "240/240 [==============================] - 0s 2ms/step - loss: 25.2712\n",
            "Epoch 92/100\n",
            "240/240 [==============================] - 0s 2ms/step - loss: 26.8585\n",
            "Epoch 93/100\n",
            "240/240 [==============================] - 0s 2ms/step - loss: 26.5134\n",
            "Epoch 94/100\n",
            "240/240 [==============================] - 0s 2ms/step - loss: 28.5794\n",
            "Epoch 95/100\n",
            "240/240 [==============================] - 0s 2ms/step - loss: 26.3280\n",
            "Epoch 96/100\n",
            "240/240 [==============================] - 0s 2ms/step - loss: 28.6128\n",
            "Epoch 97/100\n",
            "240/240 [==============================] - 0s 2ms/step - loss: 26.8969\n",
            "Epoch 98/100\n",
            "240/240 [==============================] - 0s 2ms/step - loss: 26.0947\n",
            "Epoch 99/100\n",
            "240/240 [==============================] - 0s 2ms/step - loss: 27.5092\n",
            "Epoch 100/100\n",
            "240/240 [==============================] - 0s 2ms/step - loss: 24.6957\n"
          ],
          "name": "stdout"
        },
        {
          "output_type": "execute_result",
          "data": {
            "text/plain": [
              "<tensorflow.python.keras.callbacks.History at 0x7f14469a15d0>"
            ]
          },
          "metadata": {
            "tags": []
          },
          "execution_count": 44
        }
      ]
    },
    {
      "cell_type": "markdown",
      "metadata": {
        "id": "Ko6XyRpSPkdm"
      },
      "source": [
        "#### Part - 4: Predicting Values "
      ]
    },
    {
      "cell_type": "code",
      "metadata": {
        "id": "TUrAxbIdPotw"
      },
      "source": [
        "y_pred = ann.predict(X_test)"
      ],
      "execution_count": 46,
      "outputs": []
    },
    {
      "cell_type": "code",
      "metadata": {
        "id": "G3O4dZ3bRhFt",
        "outputId": "060b5688-7d38-4b0e-9598-f109569853dd",
        "colab": {
          "base_uri": "https://localhost:8080/"
        }
      },
      "source": [
        "# Comparing Data\r\n",
        "\r\n",
        "np.set_printoptions(precision=2)\r\n",
        "print(np.concatenate((y_pred.reshape(len(y_pred),1), y_test.reshape(len(y_test),1)),1))"
      ],
      "execution_count": 48,
      "outputs": [
        {
          "output_type": "stream",
          "text": [
            "[[455.64 455.27]\n",
            " [439.68 436.31]\n",
            " [433.61 440.68]\n",
            " ...\n",
            " [481.5  479.53]\n",
            " [435.37 435.76]\n",
            " [458.05 457.1 ]]\n"
          ],
          "name": "stdout"
        }
      ]
    },
    {
      "cell_type": "markdown",
      "metadata": {
        "id": "LumSOJ0uP_eT"
      },
      "source": [
        "###### Evaluating Model"
      ]
    },
    {
      "cell_type": "code",
      "metadata": {
        "id": "yd8DR6JLP9nZ",
        "outputId": "edacae28-c41f-47b9-ca40-2ebf132b5142",
        "colab": {
          "base_uri": "https://localhost:8080/"
        }
      },
      "source": [
        "from sklearn.metrics import explained_variance_score, r2_score, mean_squared_error\r\n",
        "\r\n",
        "evs =  explained_variance_score(y_test,y_pred)\r\n",
        "r2 = r2_score(y_test,y_pred)\r\n",
        "mse = mean_squared_error(y_test,y_pred)\r\n",
        "\r\n",
        "print(f\"Variance Score: {evs}\\nR Sq.: {r2}\\nMSE: {mse}\")"
      ],
      "execution_count": 73,
      "outputs": [
        {
          "output_type": "stream",
          "text": [
            "Variance Score: 0.9203179605793357\n",
            "R Sq.: 0.9203070855138584\n",
            "MSE: 23.115565789097744\n"
          ],
          "name": "stdout"
        }
      ]
    }
  ]
}