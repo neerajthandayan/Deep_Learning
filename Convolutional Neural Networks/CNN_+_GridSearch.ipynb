{
  "nbformat": 4,
  "nbformat_minor": 0,
  "metadata": {
    "colab": {
      "name": "CNN + GridSearch.ipynb",
      "provenance": [],
      "authorship_tag": "ABX9TyM3ZipR4OvwdWD0FpUrEKlU",
      "include_colab_link": true
    },
    "kernelspec": {
      "name": "python3",
      "display_name": "Python 3"
    }
  },
  "cells": [
    {
      "cell_type": "markdown",
      "metadata": {
        "id": "view-in-github",
        "colab_type": "text"
      },
      "source": [
        "<a href=\"https://colab.research.google.com/github/neerajthandayan/Deep_Learning/blob/main/CNN_%2B_GridSearch.ipynb\" target=\"_parent\"><img src=\"https://colab.research.google.com/assets/colab-badge.svg\" alt=\"Open In Colab\"/></a>"
      ]
    },
    {
      "cell_type": "markdown",
      "metadata": {
        "id": "bct14V9WwKwA"
      },
      "source": [
        "# Convolutional Neural Network + GridSearch Cross-validation"
      ]
    },
    {
      "cell_type": "code",
      "metadata": {
        "id": "eOBGGMYrwW0v"
      },
      "source": [
        ""
      ],
      "execution_count": null,
      "outputs": []
    }
  ]
}
