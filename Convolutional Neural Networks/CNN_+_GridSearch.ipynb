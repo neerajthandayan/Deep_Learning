{
  "nbformat": 4,
  "nbformat_minor": 0,
  "metadata": {
    "colab": {
      "name": "CNN + GridSearch.ipynb",
      "provenance": [],
      "toc_visible": true,
      "authorship_tag": "ABX9TyOJDH9QLFuFMqSUtrObL37C",
      "include_colab_link": true
    },
    "kernelspec": {
      "name": "python3",
      "display_name": "Python 3"
    },
    "accelerator": "GPU"
  },
  "cells": [
    {
      "cell_type": "markdown",
      "metadata": {
        "id": "view-in-github",
        "colab_type": "text"
      },
      "source": [
        "<a href=\"https://colab.research.google.com/github/neerajthandayan/Deep_Learning/blob/main/Convolutional%20Neural%20Networks/CNN_%2B_GridSearch.ipynb\" target=\"_parent\"><img src=\"https://colab.research.google.com/assets/colab-badge.svg\" alt=\"Open In Colab\"/></a>"
      ]
    },
    {
      "cell_type": "markdown",
      "metadata": {
        "id": "bct14V9WwKwA"
      },
      "source": [
        "# Convolutional Neural Network + GridSearch Cross-validation"
      ]
    },
    {
      "cell_type": "markdown",
      "metadata": {
        "id": "hKv_7jRZ2TqE"
      },
      "source": [
        "#### Part - 1: Data Import & Pre-processing "
      ]
    },
    {
      "cell_type": "code",
      "metadata": {
        "id": "xHskaEB-2TIg"
      },
      "source": [
        "# Data Import\r\n",
        "from keras.datasets import mnist\r\n",
        "from keras.utils import to_categorical  \r\n",
        "\r\n",
        "(train_images, train_labels), (test_images, test_labels) = mnist.load_data()\r\n",
        "train_images = train_images.reshape((60000, 28, 28, 1))\r\n",
        "train_images = train_images.astype('float32') / 255\r\n",
        "test_images = test_images.reshape((10000, 28, 28, 1))\r\n",
        "test_images = test_images.astype('float32') / 255\r\n",
        "train_labels = to_categorical(train_labels)\r\n",
        "test_labels = to_categorical(test_labels)"
      ],
      "execution_count": 1,
      "outputs": []
    },
    {
      "cell_type": "markdown",
      "metadata": {
        "id": "vi0oeglvwsWM"
      },
      "source": [
        "#### Part - 2: Initialising Function for CNN"
      ]
    },
    {
      "cell_type": "code",
      "metadata": {
        "id": "eOBGGMYrwW0v"
      },
      "source": [
        "def cnn_model(act_funct='relu',optimizer='rmsprop',nodes=32,loss='categorical_crossentropy'):\r\n",
        "  # Importing Libraries\r\n",
        "  from keras import layers\r\n",
        "  from keras import models\r\n",
        "\r\n",
        "  #Initialising Convolutional Layer\r\n",
        "  model = models.Sequential()\r\n",
        "  model.add(layers.Conv2D(32, (3, 3), activation=act_funct, input_shape=(28, 28, 1)))\r\n",
        "  model.add(layers.MaxPooling2D((2, 2)))\r\n",
        "  model.add(layers.Conv2D(nodes, (3, 3), activation=act_funct))\r\n",
        "  model.add(layers.MaxPooling2D((2, 2)))\r\n",
        "  model.add(layers.Conv2D(nodes, (3, 3), activation=act_funct))\r\n",
        "  model.summary()\r\n",
        "  \r\n",
        "  # Adding Neural Net Layer\r\n",
        "  model.add(layers.Flatten())\r\n",
        "  model.add(layers.Dense(nodes, activation=act_funct))\r\n",
        "  model.add(layers.Dense(10, activation='softmax'))\r\n",
        "  model.summary()\r\n",
        "\r\n",
        "  # Compiling & Fitting Model\r\n",
        "  model.compile(optimizer=optimizer, \r\n",
        "              loss=loss,\r\n",
        "              metrics=['accuracy'])\r\n",
        "  \r\n",
        "  return model"
      ],
      "execution_count": 2,
      "outputs": []
    },
    {
      "cell_type": "markdown",
      "metadata": {
        "id": "5i-GKyJE2s5u"
      },
      "source": [
        "#### Part - 3: Setting up GridSearch"
      ]
    },
    {
      "cell_type": "code",
      "metadata": {
        "id": "xWRd-OWZzt1g"
      },
      "source": [
        "# GridSearch Cross-validation\r\n",
        "import numpy as np\r\n",
        "from sklearn.model_selection import GridSearchCV\r\n",
        "from keras.wrappers.scikit_learn import KerasClassifier\r\n",
        "\r\n",
        "act_funct = ['relu','elu','selu']\r\n",
        "optimizer = ['rmsprop','SGD','adam']\r\n",
        "nodes = [64,128]\r\n",
        "loss = ['categorical_crossentropy','hinge','squared_hinge']\r\n",
        "\r\n",
        "param_grid = dict(act_funct=act_funct,optimizer=optimizer,nodes=nodes)\r\n",
        "Classifier = KerasClassifier(build_fn=cnn_model,epochs=25, batch_size=64,validation_split=0.2)\r\n",
        "\r\n",
        "grid = GridSearchCV(estimator=Classifier,param_grid=param_grid, n_jobs=-1, cv=3)\r\n",
        "grid_result = grid.fit(train_images, train_labels)"
      ],
      "execution_count": null,
      "outputs": []
    },
    {
      "cell_type": "markdown",
      "metadata": {
        "id": "3k8HVehp3DGb"
      },
      "source": [
        "#### Part - 4: Cross-validation Summary"
      ]
    },
    {
      "cell_type": "code",
      "metadata": {
        "id": "NScFA1O83KJn"
      },
      "source": [
        "# summarize results\r\n",
        "print(\"Best: %f using %s\" % (grid_result.best_score_, grid_result.best_params_))\r\n",
        "means = grid_result.cv_results_['mean_test_score']\r\n",
        "stds = grid_result.cv_results_['std_test_score']\r\n",
        "params = grid_result.cv_results_['params']\r\n",
        "for mean, stdev, param in zip(means, stds, params):\r\n",
        "    print(\"%f (%f) with: %r\" % (mean, stdev, param))"
      ],
      "execution_count": null,
      "outputs": []
    }
  ]
}