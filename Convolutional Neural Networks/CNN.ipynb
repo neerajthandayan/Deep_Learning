{
  "nbformat": 4,
  "nbformat_minor": 0,
  "metadata": {
    "colab": {
      "name": "CNN.ipynb",
      "provenance": [],
      "toc_visible": true,
      "mount_file_id": "https://github.com/neerajthandayan/Deep_Learning/blob/main/Convolutional%20Neural%20Networks/CNN.ipynb",
      "authorship_tag": "ABX9TyMtyqx7BNCrio9pbSu5yj7M",
      "include_colab_link": true
    },
    "kernelspec": {
      "name": "python3",
      "display_name": "Python 3"
    },
    "accelerator": "TPU"
  },
  "cells": [
    {
      "cell_type": "markdown",
      "metadata": {
        "id": "view-in-github",
        "colab_type": "text"
      },
      "source": [
        "<a href=\"https://colab.research.google.com/github/neerajthandayan/Deep_Learning/blob/main/Convolutional%20Neural%20Networks/CNN.ipynb\" target=\"_parent\"><img src=\"https://colab.research.google.com/assets/colab-badge.svg\" alt=\"Open In Colab\"/></a>"
      ]
    },
    {
      "cell_type": "markdown",
      "metadata": {
        "id": "BXsDyTg5syMs"
      },
      "source": [
        "# Convolutional Neural Networks"
      ]
    },
    {
      "cell_type": "markdown",
      "metadata": {
        "id": "9fsxYvAJIlZ9"
      },
      "source": [
        "###### Importing Libraries"
      ]
    },
    {
      "cell_type": "code",
      "metadata": {
        "id": "mnkuEDeGIZGR"
      },
      "source": [
        "import tensorflow as tf\r\n",
        "from keras.preprocessing.image import ImageDataGenerator"
      ],
      "execution_count": 1,
      "outputs": []
    },
    {
      "cell_type": "code",
      "metadata": {
        "colab": {
          "base_uri": "https://localhost:8080/",
          "height": 35
        },
        "id": "2qqEpAHAI_aS",
        "outputId": "4668305d-d426-43e6-9a80-fa8a8ca4938a"
      },
      "source": [
        "tf.__version__"
      ],
      "execution_count": 2,
      "outputs": [
        {
          "output_type": "execute_result",
          "data": {
            "application/vnd.google.colaboratory.intrinsic+json": {
              "type": "string"
            },
            "text/plain": [
              "'2.4.1'"
            ]
          },
          "metadata": {
            "tags": []
          },
          "execution_count": 2
        }
      ]
    },
    {
      "cell_type": "markdown",
      "metadata": {
        "id": "G_UlEgNtILIL"
      },
      "source": [
        "#### Part -  1: Data Pre-processing"
      ]
    },
    {
      "cell_type": "markdown",
      "metadata": {
        "id": "zeJrtpsHJIyX"
      },
      "source": [
        "###### Pre-processing Training & Test Set"
      ]
    },
    {
      "cell_type": "code",
      "metadata": {
        "colab": {
          "base_uri": "https://localhost:8080/"
        },
        "id": "UObwG-iCJODb",
        "outputId": "67853b54-ada2-4c00-848a-721b8a6910e0"
      },
      "source": [
        "# Image Augmentation\r\n",
        "\r\n",
        "# Training Set\r\n",
        "train_datagen = ImageDataGenerator(\r\n",
        "        rescale=1./255,\r\n",
        "        shear_range=0.2,\r\n",
        "        zoom_range=0.2,\r\n",
        "        horizontal_flip=True)\r\n",
        "training_set = train_datagen.flow_from_directory(\r\n",
        "        '/content/drive/MyDrive/Datasets/CNN_dataset/training_set',\r\n",
        "        target_size=(64, 64),\r\n",
        "        batch_size=32,\r\n",
        "        class_mode='binary')\r\n",
        "\r\n",
        "# Test Set\r\n",
        "test_datagen = ImageDataGenerator(rescale=1./255)\r\n",
        "test_set = test_datagen.flow_from_directory(\r\n",
        "        '/content/drive/MyDrive/Datasets/CNN_dataset/test_set',\r\n",
        "        target_size=(64, 64),\r\n",
        "        batch_size=32,\r\n",
        "        class_mode='binary')"
      ],
      "execution_count": 3,
      "outputs": [
        {
          "output_type": "stream",
          "text": [
            "Found 8000 images belonging to 2 classes.\n",
            "Found 2000 images belonging to 2 classes.\n"
          ],
          "name": "stdout"
        }
      ]
    },
    {
      "cell_type": "markdown",
      "metadata": {
        "id": "OFhFNP6-M2W5"
      },
      "source": [
        "#### Part - 2: Building CNN"
      ]
    },
    {
      "cell_type": "markdown",
      "metadata": {
        "id": "BRKhbvuiM6UM"
      },
      "source": [
        "###### Initialising CNN"
      ]
    },
    {
      "cell_type": "code",
      "metadata": {
        "id": "V4dgZAfMM9qw"
      },
      "source": [
        "cnn = tf.keras.models.Sequential()"
      ],
      "execution_count": 4,
      "outputs": []
    },
    {
      "cell_type": "markdown",
      "metadata": {
        "id": "1V-oD9BjNRC4"
      },
      "source": [
        "###### Step - 1: Convolution "
      ]
    },
    {
      "cell_type": "code",
      "metadata": {
        "id": "K95RvVU4NPMP"
      },
      "source": [
        "cnn.add(tf.keras.layers.Conv2D(filters=32,\r\n",
        "                               kernel_size=(3,3),\r\n",
        "                               activation='relu',\r\n",
        "                               input_shape=[64,64,3]))"
      ],
      "execution_count": 5,
      "outputs": []
    },
    {
      "cell_type": "markdown",
      "metadata": {
        "id": "5uTy7OECOwKe"
      },
      "source": [
        "###### Step - 2: Pooling"
      ]
    },
    {
      "cell_type": "code",
      "metadata": {
        "id": "apwoRQzEOyr2"
      },
      "source": [
        "cnn.add(tf.keras.layers.MaxPool2D(pool_size=2,\r\n",
        "                                  strides=2,\r\n",
        "                                  padding='valid'))"
      ],
      "execution_count": 6,
      "outputs": []
    },
    {
      "cell_type": "markdown",
      "metadata": {
        "id": "ywQaQJlvPxYI"
      },
      "source": [
        "###### Step - 3: Second Convolutional Layer"
      ]
    },
    {
      "cell_type": "code",
      "metadata": {
        "id": "QVnOPSe_QG8Y"
      },
      "source": [
        "cnn.add(tf.keras.layers.Conv2D(filters=32, # Number of Output filers\r\n",
        "                               kernel_size=(3,3), # Filter Size\r\n",
        "                               activation='relu'))"
      ],
      "execution_count": 7,
      "outputs": []
    },
    {
      "cell_type": "markdown",
      "metadata": {
        "id": "cciYMjBGP7mb"
      },
      "source": [
        "###### Step - 4: Second Pooling Layer\r\n"
      ]
    },
    {
      "cell_type": "code",
      "metadata": {
        "id": "vJ32g7TCPwnp"
      },
      "source": [
        "cnn.add(tf.keras.layers.MaxPool2D(pool_size=2,\r\n",
        "                                  strides=2,\r\n",
        "                                  padding='valid'))"
      ],
      "execution_count": 8,
      "outputs": []
    },
    {
      "cell_type": "markdown",
      "metadata": {
        "id": "PfNmOemmQSRo"
      },
      "source": [
        "###### Step - 5: Flattening"
      ]
    },
    {
      "cell_type": "code",
      "metadata": {
        "id": "vkFNUkt7QVmY"
      },
      "source": [
        "cnn.add(tf.keras.layers.Flatten())"
      ],
      "execution_count": 9,
      "outputs": []
    },
    {
      "cell_type": "markdown",
      "metadata": {
        "id": "IN0PLW0tQj9f"
      },
      "source": [
        "###### Step - 6: Full Connection"
      ]
    },
    {
      "cell_type": "code",
      "metadata": {
        "id": "sXTqehS_Q1Q8"
      },
      "source": [
        "cnn.add(tf.keras.layers.Dense(units=128,\r\n",
        "                              activation='relu'))"
      ],
      "execution_count": 10,
      "outputs": []
    },
    {
      "cell_type": "markdown",
      "metadata": {
        "id": "zGtuWPNSRHKq"
      },
      "source": [
        "###### Step - 7: Output Layer"
      ]
    },
    {
      "cell_type": "code",
      "metadata": {
        "id": "e9mhxE2IRQu_"
      },
      "source": [
        "cnn.add(tf.keras.layers.Dense(units=1,\r\n",
        "                              activation='sigmoid'))"
      ],
      "execution_count": 11,
      "outputs": []
    },
    {
      "cell_type": "markdown",
      "metadata": {
        "id": "KfFHykuTRscz"
      },
      "source": [
        "#### Part - 3: Training CNN"
      ]
    },
    {
      "cell_type": "markdown",
      "metadata": {
        "id": "TnNNRq6cSBrq"
      },
      "source": [
        "###### Compiling CNN"
      ]
    },
    {
      "cell_type": "code",
      "metadata": {
        "id": "I4RY4eSYRrxf"
      },
      "source": [
        "cnn.compile(optimizer='adam',\r\n",
        "            loss='binary_crossentropy',\r\n",
        "            metrics=['accuracy'])"
      ],
      "execution_count": 12,
      "outputs": []
    },
    {
      "cell_type": "markdown",
      "metadata": {
        "id": "LT1hl9KdSVO7"
      },
      "source": [
        "###### Training & Evaluating the Model"
      ]
    },
    {
      "cell_type": "code",
      "metadata": {
        "colab": {
          "base_uri": "https://localhost:8080/"
        },
        "id": "Leg_t1SRSkGS",
        "outputId": "cd0902ef-9e95-47d2-921f-e83bf093d83a"
      },
      "source": [
        "cnn.fit(x=training_set,\r\n",
        "        validation_data=test_set,\r\n",
        "        epochs=50)"
      ],
      "execution_count": 13,
      "outputs": [
        {
          "output_type": "stream",
          "text": [
            "Epoch 1/50\n",
            "250/250 [==============================] - 2086s 8s/step - loss: 0.6837 - accuracy: 0.5463 - val_loss: 0.6478 - val_accuracy: 0.6185\n",
            "Epoch 2/50\n",
            "250/250 [==============================] - 78s 313ms/step - loss: 0.5960 - accuracy: 0.6852 - val_loss: 0.5620 - val_accuracy: 0.7130\n",
            "Epoch 3/50\n",
            "250/250 [==============================] - 79s 314ms/step - loss: 0.5561 - accuracy: 0.7153 - val_loss: 0.5355 - val_accuracy: 0.7390\n",
            "Epoch 4/50\n",
            "250/250 [==============================] - 79s 316ms/step - loss: 0.5097 - accuracy: 0.7449 - val_loss: 0.5300 - val_accuracy: 0.7340\n",
            "Epoch 5/50\n",
            "250/250 [==============================] - 79s 315ms/step - loss: 0.4982 - accuracy: 0.7586 - val_loss: 0.5129 - val_accuracy: 0.7590\n",
            "Epoch 6/50\n",
            "250/250 [==============================] - 79s 316ms/step - loss: 0.4641 - accuracy: 0.7765 - val_loss: 0.4893 - val_accuracy: 0.7580\n",
            "Epoch 7/50\n",
            "250/250 [==============================] - 79s 315ms/step - loss: 0.4696 - accuracy: 0.7719 - val_loss: 0.4724 - val_accuracy: 0.7825\n",
            "Epoch 8/50\n",
            "250/250 [==============================] - 79s 314ms/step - loss: 0.4590 - accuracy: 0.7800 - val_loss: 0.4725 - val_accuracy: 0.7730\n",
            "Epoch 9/50\n",
            "250/250 [==============================] - 79s 315ms/step - loss: 0.4285 - accuracy: 0.8026 - val_loss: 0.4689 - val_accuracy: 0.7825\n",
            "Epoch 10/50\n",
            "250/250 [==============================] - 79s 317ms/step - loss: 0.4326 - accuracy: 0.7985 - val_loss: 0.4793 - val_accuracy: 0.7870\n",
            "Epoch 11/50\n",
            "250/250 [==============================] - 80s 318ms/step - loss: 0.4088 - accuracy: 0.8071 - val_loss: 0.5137 - val_accuracy: 0.7610\n",
            "Epoch 12/50\n",
            "250/250 [==============================] - 79s 316ms/step - loss: 0.3952 - accuracy: 0.8158 - val_loss: 0.4826 - val_accuracy: 0.7870\n",
            "Epoch 13/50\n",
            "250/250 [==============================] - 79s 315ms/step - loss: 0.3925 - accuracy: 0.8217 - val_loss: 0.4599 - val_accuracy: 0.7920\n",
            "Epoch 14/50\n",
            "250/250 [==============================] - 79s 315ms/step - loss: 0.3724 - accuracy: 0.8293 - val_loss: 0.4365 - val_accuracy: 0.8065\n",
            "Epoch 15/50\n",
            "250/250 [==============================] - 79s 315ms/step - loss: 0.3603 - accuracy: 0.8374 - val_loss: 0.4709 - val_accuracy: 0.7900\n",
            "Epoch 16/50\n",
            "250/250 [==============================] - 79s 315ms/step - loss: 0.3594 - accuracy: 0.8378 - val_loss: 0.5215 - val_accuracy: 0.7685\n",
            "Epoch 17/50\n",
            "250/250 [==============================] - 79s 314ms/step - loss: 0.3582 - accuracy: 0.8382 - val_loss: 0.4612 - val_accuracy: 0.8030\n",
            "Epoch 18/50\n",
            "250/250 [==============================] - 79s 315ms/step - loss: 0.3391 - accuracy: 0.8506 - val_loss: 0.5239 - val_accuracy: 0.7790\n",
            "Epoch 19/50\n",
            "250/250 [==============================] - 79s 314ms/step - loss: 0.3124 - accuracy: 0.8711 - val_loss: 0.5255 - val_accuracy: 0.7870\n",
            "Epoch 20/50\n",
            "250/250 [==============================] - 78s 314ms/step - loss: 0.3195 - accuracy: 0.8611 - val_loss: 0.4523 - val_accuracy: 0.8110\n",
            "Epoch 21/50\n",
            "250/250 [==============================] - 79s 317ms/step - loss: 0.2966 - accuracy: 0.8740 - val_loss: 0.4860 - val_accuracy: 0.8130\n",
            "Epoch 22/50\n",
            "250/250 [==============================] - 80s 318ms/step - loss: 0.3031 - accuracy: 0.8646 - val_loss: 0.4724 - val_accuracy: 0.8175\n",
            "Epoch 23/50\n",
            "250/250 [==============================] - 79s 315ms/step - loss: 0.2761 - accuracy: 0.8861 - val_loss: 0.4881 - val_accuracy: 0.8175\n",
            "Epoch 24/50\n",
            "250/250 [==============================] - 79s 316ms/step - loss: 0.2699 - accuracy: 0.8851 - val_loss: 0.4874 - val_accuracy: 0.8190\n",
            "Epoch 25/50\n",
            "250/250 [==============================] - 79s 316ms/step - loss: 0.2448 - accuracy: 0.8962 - val_loss: 0.4916 - val_accuracy: 0.8085\n",
            "Epoch 26/50\n",
            "250/250 [==============================] - 80s 318ms/step - loss: 0.2319 - accuracy: 0.9042 - val_loss: 0.5079 - val_accuracy: 0.8135\n",
            "Epoch 27/50\n",
            "250/250 [==============================] - 79s 317ms/step - loss: 0.2164 - accuracy: 0.9111 - val_loss: 0.4961 - val_accuracy: 0.8150\n",
            "Epoch 28/50\n",
            "250/250 [==============================] - 79s 317ms/step - loss: 0.2196 - accuracy: 0.9120 - val_loss: 0.5253 - val_accuracy: 0.8050\n",
            "Epoch 29/50\n",
            "250/250 [==============================] - 79s 317ms/step - loss: 0.2005 - accuracy: 0.9195 - val_loss: 0.5897 - val_accuracy: 0.7820\n",
            "Epoch 30/50\n",
            "250/250 [==============================] - 79s 317ms/step - loss: 0.1998 - accuracy: 0.9203 - val_loss: 0.5899 - val_accuracy: 0.8055\n",
            "Epoch 31/50\n",
            "250/250 [==============================] - 79s 316ms/step - loss: 0.1955 - accuracy: 0.9179 - val_loss: 0.5955 - val_accuracy: 0.8055\n",
            "Epoch 32/50\n",
            "250/250 [==============================] - 79s 316ms/step - loss: 0.1767 - accuracy: 0.9318 - val_loss: 0.5382 - val_accuracy: 0.8150\n",
            "Epoch 33/50\n",
            "250/250 [==============================] - 79s 317ms/step - loss: 0.1811 - accuracy: 0.9215 - val_loss: 0.5730 - val_accuracy: 0.8060\n",
            "Epoch 34/50\n",
            "250/250 [==============================] - 79s 315ms/step - loss: 0.1600 - accuracy: 0.9390 - val_loss: 0.5595 - val_accuracy: 0.8180\n",
            "Epoch 35/50\n",
            "250/250 [==============================] - 79s 317ms/step - loss: 0.1685 - accuracy: 0.9357 - val_loss: 0.5951 - val_accuracy: 0.8185\n",
            "Epoch 36/50\n",
            "250/250 [==============================] - 79s 315ms/step - loss: 0.1503 - accuracy: 0.9415 - val_loss: 0.6132 - val_accuracy: 0.8035\n",
            "Epoch 37/50\n",
            "250/250 [==============================] - 79s 315ms/step - loss: 0.1550 - accuracy: 0.9386 - val_loss: 0.6527 - val_accuracy: 0.8050\n",
            "Epoch 38/50\n",
            "250/250 [==============================] - 79s 314ms/step - loss: 0.1399 - accuracy: 0.9468 - val_loss: 0.6415 - val_accuracy: 0.8005\n",
            "Epoch 39/50\n",
            "250/250 [==============================] - 80s 318ms/step - loss: 0.1332 - accuracy: 0.9501 - val_loss: 0.7129 - val_accuracy: 0.7955\n",
            "Epoch 40/50\n",
            "250/250 [==============================] - 79s 317ms/step - loss: 0.1237 - accuracy: 0.9557 - val_loss: 0.6816 - val_accuracy: 0.8010\n",
            "Epoch 41/50\n",
            "250/250 [==============================] - 79s 315ms/step - loss: 0.1215 - accuracy: 0.9541 - val_loss: 0.6746 - val_accuracy: 0.8130\n",
            "Epoch 42/50\n",
            "250/250 [==============================] - 79s 316ms/step - loss: 0.1176 - accuracy: 0.9535 - val_loss: 0.7472 - val_accuracy: 0.7945\n",
            "Epoch 43/50\n",
            "250/250 [==============================] - 78s 314ms/step - loss: 0.1172 - accuracy: 0.9545 - val_loss: 0.6729 - val_accuracy: 0.8165\n",
            "Epoch 44/50\n",
            "250/250 [==============================] - 79s 316ms/step - loss: 0.1252 - accuracy: 0.9490 - val_loss: 0.6720 - val_accuracy: 0.8025\n",
            "Epoch 45/50\n",
            "250/250 [==============================] - 79s 316ms/step - loss: 0.1239 - accuracy: 0.9516 - val_loss: 0.7298 - val_accuracy: 0.7940\n",
            "Epoch 46/50\n",
            "250/250 [==============================] - 79s 316ms/step - loss: 0.1133 - accuracy: 0.9587 - val_loss: 0.7016 - val_accuracy: 0.8080\n",
            "Epoch 47/50\n",
            "250/250 [==============================] - 79s 316ms/step - loss: 0.1057 - accuracy: 0.9607 - val_loss: 0.7443 - val_accuracy: 0.7990\n",
            "Epoch 48/50\n",
            "250/250 [==============================] - 78s 314ms/step - loss: 0.0930 - accuracy: 0.9663 - val_loss: 0.8026 - val_accuracy: 0.8110\n",
            "Epoch 49/50\n",
            "250/250 [==============================] - 79s 316ms/step - loss: 0.1023 - accuracy: 0.9616 - val_loss: 0.8158 - val_accuracy: 0.8090\n",
            "Epoch 50/50\n",
            "250/250 [==============================] - 78s 313ms/step - loss: 0.1009 - accuracy: 0.9625 - val_loss: 0.7965 - val_accuracy: 0.8050\n"
          ],
          "name": "stdout"
        },
        {
          "output_type": "execute_result",
          "data": {
            "text/plain": [
              "<tensorflow.python.keras.callbacks.History at 0x7f6d5c427850>"
            ]
          },
          "metadata": {
            "tags": []
          },
          "execution_count": 13
        }
      ]
    },
    {
      "cell_type": "markdown",
      "metadata": {
        "id": "zbW-d8B1TPvB"
      },
      "source": [
        "#### Part - 4: Making Single Prediction"
      ]
    },
    {
      "cell_type": "code",
      "metadata": {
        "id": "GATdL3ksT9oU"
      },
      "source": [
        "import numpy as np\r\n",
        "from keras.preprocessing import image\r\n",
        "\r\n",
        "test_image = image.load_img('/content/drive/MyDrive/Datasets/CNN_dataset/single_prediction/cat_or_dog_1.jpg',target_size=(64,64))\r\n",
        "test_image = image.img_to_array(test_image)\r\n",
        "test_image = np.expand_dims(test_image, axis=0)\r\n",
        "\r\n",
        "result = cnn.predict(test_image)\r\n",
        "\r\n",
        "# Encoding results\r\n",
        "if result[0][0] > 0.5:\r\n",
        "  prediction = 'Dog'\r\n",
        "else:\r\n",
        "  prediction = 'Cat' "
      ],
      "execution_count": 14,
      "outputs": []
    },
    {
      "cell_type": "code",
      "metadata": {
        "colab": {
          "base_uri": "https://localhost:8080/"
        },
        "id": "A43la2UgXDG7",
        "outputId": "a880b4ae-6261-45e6-a83d-4d9b2f14a36b"
      },
      "source": [
        "# Final Prediction\r\n",
        "\r\n",
        "print(prediction)"
      ],
      "execution_count": 15,
      "outputs": [
        {
          "output_type": "stream",
          "text": [
            "Dog\n"
          ],
          "name": "stdout"
        }
      ]
    }
  ]
}