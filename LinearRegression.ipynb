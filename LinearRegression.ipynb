{
  "nbformat": 4,
  "nbformat_minor": 0,
  "metadata": {
    "colab": {
      "name": "LinearRegression.ipynb",
      "provenance": [],
      "authorship_tag": "ABX9TyOynx6t5bKa7hqAq3k9ZB0W",
      "include_colab_link": true
    },
    "kernelspec": {
      "name": "python3",
      "display_name": "Python 3"
    },
    "language_info": {
      "name": "python"
    },
    "accelerator": "TPU"
  },
  "cells": [
    {
      "cell_type": "markdown",
      "metadata": {
        "id": "view-in-github",
        "colab_type": "text"
      },
      "source": [
        "<a href=\"https://colab.research.google.com/github/neerajthandayan/Deep_Learning/blob/main/LinearRegression.ipynb\" target=\"_parent\"><img src=\"https://colab.research.google.com/assets/colab-badge.svg\" alt=\"Open In Colab\"/></a>"
      ]
    },
    {
      "cell_type": "code",
      "metadata": {
        "id": "w8R85AQIGrt1"
      },
      "source": [
        "# Importing Libraries\n",
        "\n",
        "import pandas as pd\n",
        "import numpy as np\n",
        "from sklearn.datasets import load_breast_cancer\n",
        "from sklearn.model_selection import train_test_split\n",
        "from sklearn.preprocessing import StandardScaler\n",
        "import tensorflow as tf\n",
        "import matplotlib.pyplot as plt"
      ],
      "execution_count": 1,
      "outputs": []
    },
    {
      "cell_type": "code",
      "metadata": {
        "colab": {
          "base_uri": "https://localhost:8080/"
        },
        "id": "Trvu87f8dVtR",
        "outputId": "df2fad59-fbe3-4eb4-cbd9-09738ab6743e"
      },
      "source": [
        "# Loading data\n",
        "\n",
        "!wget https://raw.githubusercontent.com/lazyprogrammer/machine_learning_examples/master/tf2.0/moore.csv"
      ],
      "execution_count": 2,
      "outputs": [
        {
          "output_type": "stream",
          "text": [
            "--2021-04-05 15:23:15--  https://raw.githubusercontent.com/lazyprogrammer/machine_learning_examples/master/tf2.0/moore.csv\n",
            "Resolving raw.githubusercontent.com (raw.githubusercontent.com)... 185.199.108.133, 185.199.109.133, 185.199.110.133, ...\n",
            "Connecting to raw.githubusercontent.com (raw.githubusercontent.com)|185.199.108.133|:443... connected.\n",
            "HTTP request sent, awaiting response... 200 OK\n",
            "Length: 2302 (2.2K) [text/plain]\n",
            "Saving to: ‘moore.csv.1’\n",
            "\n",
            "\rmoore.csv.1           0%[                    ]       0  --.-KB/s               \rmoore.csv.1         100%[===================>]   2.25K  --.-KB/s    in 0s      \n",
            "\n",
            "2021-04-05 15:23:16 (18.7 MB/s) - ‘moore.csv.1’ saved [2302/2302]\n",
            "\n"
          ],
          "name": "stdout"
        }
      ]
    },
    {
      "cell_type": "code",
      "metadata": {
        "id": "ueWl0-BedeNe"
      },
      "source": [
        "# Processing Data\n",
        "\n",
        "data = pd.read_csv('moore.csv', header=None).values\n",
        "X = data[:,0].reshape(-1,1)\n",
        "y = data[:,1]"
      ],
      "execution_count": 3,
      "outputs": []
    },
    {
      "cell_type": "code",
      "metadata": {
        "colab": {
          "base_uri": "https://localhost:8080/",
          "height": 293
        },
        "id": "mu86rCW0eibd",
        "outputId": "76d5c6d8-40a4-4439-ad27-08e5634b3f69"
      },
      "source": [
        "# Plotting data\n",
        "\n",
        "plt.scatter(X,y)"
      ],
      "execution_count": 4,
      "outputs": [
        {
          "output_type": "execute_result",
          "data": {
            "text/plain": [
              "<matplotlib.collections.PathCollection at 0x7fb43af4acd0>"
            ]
          },
          "metadata": {
            "tags": []
          },
          "execution_count": 4
        },
        {
          "output_type": "display_data",
          "data": {
            "image/png": "[encoded data removed]",
            "text/plain": [
              "<Figure size 432x288 with 1 Axes>"
            ]
          },
          "metadata": {
            "tags": [],
            "needs_background": "light"
          }
        }
      ]
    },
    {
      "cell_type": "code",
      "metadata": {
        "colab": {
          "base_uri": "https://localhost:8080/",
          "height": 282
        },
        "id": "Yduy4rUHen3B",
        "outputId": "21996457-5017-4a2b-bb17-97967e0b7ffc"
      },
      "source": [
        "# Plotting scaled (x) and log(y) data\n",
        "\n",
        "X = X - X.mean()\n",
        "Y = np.log(y)\n",
        "\n",
        "plt.scatter(X,Y)"
      ],
      "execution_count": 5,
      "outputs": [
        {
          "output_type": "execute_result",
          "data": {
            "text/plain": [
              "<matplotlib.collections.PathCollection at 0x7fb406260e90>"
            ]
          },
          "metadata": {
            "tags": []
          },
          "execution_count": 5
        },
        {
          "output_type": "display_data",
          "data": {
            "image/png": "[encoded data removed]",
            "text/plain": [
              "<Figure size 432x288 with 1 Axes>"
            ]
          },
          "metadata": {
            "tags": [],
            "needs_background": "light"
          }
        }
      ]
    },
    {
      "cell_type": "code",
      "metadata": {
        "colab": {
          "base_uri": "https://localhost:8080/"
        },
        "id": "I8hm6Y3FfT-k",
        "outputId": "0efadb60-0eb6-47bf-9b78-ace2ca126a39"
      },
      "source": [
        "# Constructing Model\n",
        "\n",
        "rmodel = tf.keras.models.Sequential()\n",
        "\n",
        "rmodel.add(tf.keras.layers.Dense(1, input_shape=(1,)))\n",
        "\n",
        "rmodel.compile(optimizer=tf.keras.optimizers.SGD(0.001, 0.9), loss='mse')\n",
        "\n",
        "# learning rate schduler\n",
        "def schedule(epoch, lr):\n",
        "  if epoch>=50:\n",
        "    return 0.0001\n",
        "  return 0.001\n",
        "\n",
        "scheduler = tf.keras.callbacks.LearningRateScheduler(schedule)\n",
        "\n",
        "# Train the model\n",
        "reg = rmodel.fit(X, Y, epochs=200, callbacks=[scheduler])"
      ],
      "execution_count": 6,
      "outputs": [
        {
          "output_type": "stream",
          "text": [
            "Epoch 1/200\n",
            "6/6 [==============================] - 0s 3ms/step - loss: 343.7474\n",
            "Epoch 2/200\n",
            "6/6 [==============================] - 0s 3ms/step - loss: 287.2505\n",
            "Epoch 3/200\n",
            "6/6 [==============================] - 0s 2ms/step - loss: 255.9262\n",
            "Epoch 4/200\n",
            "6/6 [==============================] - 0s 3ms/step - loss: 198.2813\n",
            "Epoch 5/200\n",
            "6/6 [==============================] - 0s 3ms/step - loss: 225.7636\n",
            "Epoch 6/200\n",
            "6/6 [==============================] - 0s 2ms/step - loss: 197.1926\n",
            "Epoch 7/200\n",
            "6/6 [==============================] - 0s 2ms/step - loss: 107.4556\n",
            "Epoch 8/200\n",
            "6/6 [==============================] - 0s 4ms/step - loss: 96.7210\n",
            "Epoch 9/200\n",
            "6/6 [==============================] - 0s 3ms/step - loss: 76.3055\n",
            "Epoch 10/200\n",
            "6/6 [==============================] - 0s 4ms/step - loss: 73.7028\n",
            "Epoch 11/200\n",
            "6/6 [==============================] - 0s 5ms/step - loss: 95.1503\n",
            "Epoch 12/200\n",
            "6/6 [==============================] - 0s 3ms/step - loss: 88.1288\n",
            "Epoch 13/200\n",
            "6/6 [==============================] - 0s 2ms/step - loss: 74.8593\n",
            "Epoch 14/200\n",
            "6/6 [==============================] - 0s 2ms/step - loss: 22.9982\n",
            "Epoch 15/200\n",
            "6/6 [==============================] - 0s 2ms/step - loss: 12.2711\n",
            "Epoch 16/200\n",
            "6/6 [==============================] - 0s 2ms/step - loss: 9.3296\n",
            "Epoch 17/200\n",
            "6/6 [==============================] - 0s 2ms/step - loss: 10.2233\n",
            "Epoch 18/200\n",
            "6/6 [==============================] - 0s 3ms/step - loss: 4.7730\n",
            "Epoch 19/200\n",
            "6/6 [==============================] - 0s 2ms/step - loss: 3.6148\n",
            "Epoch 20/200\n",
            "6/6 [==============================] - 0s 2ms/step - loss: 2.4686\n",
            "Epoch 21/200\n",
            "6/6 [==============================] - 0s 3ms/step - loss: 3.4966\n",
            "Epoch 22/200\n",
            "6/6 [==============================] - 0s 3ms/step - loss: 2.8093\n",
            "Epoch 23/200\n",
            "6/6 [==============================] - 0s 2ms/step - loss: 1.7956\n",
            "Epoch 24/200\n",
            "6/6 [==============================] - 0s 2ms/step - loss: 2.1414\n",
            "Epoch 25/200\n",
            "6/6 [==============================] - 0s 3ms/step - loss: 1.7100\n",
            "Epoch 26/200\n",
            "6/6 [==============================] - 0s 5ms/step - loss: 1.6414\n",
            "Epoch 27/200\n",
            "6/6 [==============================] - 0s 2ms/step - loss: 1.4055\n",
            "Epoch 28/200\n",
            "6/6 [==============================] - 0s 3ms/step - loss: 1.2649\n",
            "Epoch 29/200\n",
            "6/6 [==============================] - 0s 3ms/step - loss: 0.9294\n",
            "Epoch 30/200\n",
            "6/6 [==============================] - 0s 3ms/step - loss: 0.9527\n",
            "Epoch 31/200\n",
            "6/6 [==============================] - 0s 4ms/step - loss: 1.4216\n",
            "Epoch 32/200\n",
            "6/6 [==============================] - 0s 3ms/step - loss: 1.3502\n",
            "Epoch 33/200\n",
            "6/6 [==============================] - 0s 2ms/step - loss: 1.4876\n",
            "Epoch 34/200\n",
            "6/6 [==============================] - 0s 2ms/step - loss: 1.3084\n",
            "Epoch 35/200\n",
            "6/6 [==============================] - 0s 2ms/step - loss: 1.1286\n",
            "Epoch 36/200\n",
            "6/6 [==============================] - 0s 4ms/step - loss: 1.6606\n",
            "Epoch 37/200\n",
            "6/6 [==============================] - 0s 2ms/step - loss: 1.9210\n",
            "Epoch 38/200\n",
            "6/6 [==============================] - 0s 3ms/step - loss: 1.3927\n",
            "Epoch 39/200\n",
            "6/6 [==============================] - 0s 3ms/step - loss: 1.0642\n",
            "Epoch 40/200\n",
            "6/6 [==============================] - 0s 2ms/step - loss: 0.9614\n",
            "Epoch 41/200\n",
            "6/6 [==============================] - 0s 3ms/step - loss: 1.1577\n",
            "Epoch 42/200\n",
            "6/6 [==============================] - 0s 4ms/step - loss: 0.9907\n",
            "Epoch 43/200\n",
            "6/6 [==============================] - 0s 3ms/step - loss: 1.2474\n",
            "Epoch 44/200\n",
            "6/6 [==============================] - 0s 4ms/step - loss: 1.2351\n",
            "Epoch 45/200\n",
            "6/6 [==============================] - 0s 2ms/step - loss: 1.5441\n",
            "Epoch 46/200\n",
            "6/6 [==============================] - 0s 3ms/step - loss: 1.2736\n",
            "Epoch 47/200\n",
            "6/6 [==============================] - 0s 3ms/step - loss: 1.0742\n",
            "Epoch 48/200\n",
            "6/6 [==============================] - 0s 4ms/step - loss: 0.8699\n",
            "Epoch 49/200\n",
            "6/6 [==============================] - 0s 3ms/step - loss: 1.0434\n",
            "Epoch 50/200\n",
            "6/6 [==============================] - 0s 3ms/step - loss: 1.3888\n",
            "Epoch 51/200\n",
            "6/6 [==============================] - 0s 3ms/step - loss: 0.9934\n",
            "Epoch 52/200\n",
            "6/6 [==============================] - 0s 3ms/step - loss: 1.1283\n",
            "Epoch 53/200\n",
            "6/6 [==============================] - 0s 3ms/step - loss: 0.8468\n",
            "Epoch 54/200\n",
            "6/6 [==============================] - 0s 2ms/step - loss: 0.9212\n",
            "Epoch 55/200\n",
            "6/6 [==============================] - 0s 3ms/step - loss: 0.7041\n",
            "Epoch 56/200\n",
            "6/6 [==============================] - 0s 3ms/step - loss: 0.8665\n",
            "Epoch 57/200\n",
            "6/6 [==============================] - 0s 3ms/step - loss: 0.7937\n",
            "Epoch 58/200\n",
            "6/6 [==============================] - 0s 4ms/step - loss: 0.8310\n",
            "Epoch 59/200\n",
            "6/6 [==============================] - 0s 3ms/step - loss: 0.8409\n",
            "Epoch 60/200\n",
            "6/6 [==============================] - 0s 2ms/step - loss: 0.9686\n",
            "Epoch 61/200\n",
            "6/6 [==============================] - 0s 4ms/step - loss: 0.7173\n",
            "Epoch 62/200\n",
            "6/6 [==============================] - 0s 2ms/step - loss: 0.9887\n",
            "Epoch 63/200\n",
            "6/6 [==============================] - 0s 2ms/step - loss: 1.0206\n",
            "Epoch 64/200\n",
            "6/6 [==============================] - 0s 3ms/step - loss: 0.9516\n",
            "Epoch 65/200\n",
            "6/6 [==============================] - 0s 3ms/step - loss: 0.9645\n",
            "Epoch 66/200\n",
            "6/6 [==============================] - 0s 4ms/step - loss: 0.7743\n",
            "Epoch 67/200\n",
            "6/6 [==============================] - 0s 4ms/step - loss: 0.8563\n",
            "Epoch 68/200\n",
            "6/6 [==============================] - 0s 3ms/step - loss: 1.0537\n",
            "Epoch 69/200\n",
            "6/6 [==============================] - 0s 2ms/step - loss: 0.7445\n",
            "Epoch 70/200\n",
            "6/6 [==============================] - 0s 2ms/step - loss: 0.7346\n",
            "Epoch 71/200\n",
            "6/6 [==============================] - 0s 3ms/step - loss: 0.6647\n",
            "Epoch 72/200\n",
            "6/6 [==============================] - 0s 3ms/step - loss: 0.8948\n",
            "Epoch 73/200\n",
            "6/6 [==============================] - 0s 3ms/step - loss: 0.8521\n",
            "Epoch 74/200\n",
            "6/6 [==============================] - 0s 2ms/step - loss: 0.9833\n",
            "Epoch 75/200\n",
            "6/6 [==============================] - 0s 3ms/step - loss: 0.8559\n",
            "Epoch 76/200\n",
            "6/6 [==============================] - 0s 3ms/step - loss: 0.8224\n",
            "Epoch 77/200\n",
            "6/6 [==============================] - 0s 3ms/step - loss: 0.8449\n",
            "Epoch 78/200\n",
            "6/6 [==============================] - 0s 2ms/step - loss: 0.9537\n",
            "Epoch 79/200\n",
            "6/6 [==============================] - 0s 3ms/step - loss: 0.9071\n",
            "Epoch 80/200\n",
            "6/6 [==============================] - 0s 4ms/step - loss: 0.9574\n",
            "Epoch 81/200\n",
            "6/6 [==============================] - 0s 3ms/step - loss: 0.8798\n",
            "Epoch 82/200\n",
            "6/6 [==============================] - 0s 3ms/step - loss: 0.9635\n",
            "Epoch 83/200\n",
            "6/6 [==============================] - 0s 3ms/step - loss: 0.9861\n",
            "Epoch 84/200\n",
            "6/6 [==============================] - 0s 4ms/step - loss: 0.7075\n",
            "Epoch 85/200\n",
            "6/6 [==============================] - 0s 4ms/step - loss: 0.7991\n",
            "Epoch 86/200\n",
            "6/6 [==============================] - 0s 4ms/step - loss: 0.7540\n",
            "Epoch 87/200\n",
            "6/6 [==============================] - 0s 3ms/step - loss: 0.9414\n",
            "Epoch 88/200\n",
            "6/6 [==============================] - 0s 3ms/step - loss: 1.0364\n",
            "Epoch 89/200\n",
            "6/6 [==============================] - 0s 3ms/step - loss: 0.7879\n",
            "Epoch 90/200\n",
            "6/6 [==============================] - 0s 3ms/step - loss: 0.6984\n",
            "Epoch 91/200\n",
            "6/6 [==============================] - 0s 2ms/step - loss: 0.8673\n",
            "Epoch 92/200\n",
            "6/6 [==============================] - 0s 2ms/step - loss: 0.8020\n",
            "Epoch 93/200\n",
            "6/6 [==============================] - 0s 4ms/step - loss: 0.7784\n",
            "Epoch 94/200\n",
            "6/6 [==============================] - 0s 4ms/step - loss: 1.0638\n",
            "Epoch 95/200\n",
            "6/6 [==============================] - 0s 4ms/step - loss: 0.9105\n",
            "Epoch 96/200\n",
            "6/6 [==============================] - 0s 2ms/step - loss: 0.8782\n",
            "Epoch 97/200\n",
            "6/6 [==============================] - 0s 3ms/step - loss: 0.7459\n",
            "Epoch 98/200\n",
            "6/6 [==============================] - 0s 4ms/step - loss: 0.7771\n",
            "Epoch 99/200\n",
            "6/6 [==============================] - 0s 4ms/step - loss: 1.0014\n",
            "Epoch 100/200\n",
            "6/6 [==============================] - 0s 4ms/step - loss: 0.8890\n",
            "Epoch 101/200\n",
            "6/6 [==============================] - 0s 3ms/step - loss: 0.8929\n",
            "Epoch 102/200\n",
            "6/6 [==============================] - 0s 3ms/step - loss: 0.8817\n",
            "Epoch 103/200\n",
            "6/6 [==============================] - 0s 3ms/step - loss: 0.7389\n",
            "Epoch 104/200\n",
            "6/6 [==============================] - 0s 2ms/step - loss: 0.7933\n",
            "Epoch 105/200\n",
            "6/6 [==============================] - 0s 4ms/step - loss: 0.7262\n",
            "Epoch 106/200\n",
            "6/6 [==============================] - 0s 2ms/step - loss: 0.9441\n",
            "Epoch 107/200\n",
            "6/6 [==============================] - 0s 3ms/step - loss: 0.8063\n",
            "Epoch 108/200\n",
            "6/6 [==============================] - 0s 3ms/step - loss: 1.0269\n",
            "Epoch 109/200\n",
            "6/6 [==============================] - 0s 3ms/step - loss: 1.0047\n",
            "Epoch 110/200\n",
            "6/6 [==============================] - 0s 2ms/step - loss: 1.0390\n",
            "Epoch 111/200\n",
            "6/6 [==============================] - 0s 3ms/step - loss: 0.8901\n",
            "Epoch 112/200\n",
            "6/6 [==============================] - 0s 3ms/step - loss: 0.8998\n",
            "Epoch 113/200\n",
            "6/6 [==============================] - 0s 4ms/step - loss: 0.8811\n",
            "Epoch 114/200\n",
            "6/6 [==============================] - 0s 3ms/step - loss: 0.8256\n",
            "Epoch 115/200\n",
            "6/6 [==============================] - 0s 3ms/step - loss: 1.0345\n",
            "Epoch 116/200\n",
            "6/6 [==============================] - 0s 2ms/step - loss: 0.8124\n",
            "Epoch 117/200\n",
            "6/6 [==============================] - 0s 2ms/step - loss: 1.0407\n",
            "Epoch 118/200\n",
            "6/6 [==============================] - 0s 2ms/step - loss: 0.9856\n",
            "Epoch 119/200\n",
            "6/6 [==============================] - 0s 4ms/step - loss: 0.8187\n",
            "Epoch 120/200\n",
            "6/6 [==============================] - 0s 2ms/step - loss: 0.8377\n",
            "Epoch 121/200\n",
            "6/6 [==============================] - 0s 3ms/step - loss: 0.8573\n",
            "Epoch 122/200\n",
            "6/6 [==============================] - 0s 4ms/step - loss: 0.9255\n",
            "Epoch 123/200\n",
            "6/6 [==============================] - 0s 4ms/step - loss: 0.8063\n",
            "Epoch 124/200\n",
            "6/6 [==============================] - 0s 3ms/step - loss: 0.7416\n",
            "Epoch 125/200\n",
            "6/6 [==============================] - 0s 3ms/step - loss: 0.9773\n",
            "Epoch 126/200\n",
            "6/6 [==============================] - 0s 5ms/step - loss: 0.9353\n",
            "Epoch 127/200\n",
            "6/6 [==============================] - 0s 3ms/step - loss: 0.7520\n",
            "Epoch 128/200\n",
            "6/6 [==============================] - 0s 4ms/step - loss: 0.8025\n",
            "Epoch 129/200\n",
            "6/6 [==============================] - 0s 2ms/step - loss: 0.9119\n",
            "Epoch 130/200\n",
            "6/6 [==============================] - 0s 2ms/step - loss: 0.9936\n",
            "Epoch 131/200\n",
            "6/6 [==============================] - 0s 3ms/step - loss: 0.9586\n",
            "Epoch 132/200\n",
            "6/6 [==============================] - 0s 3ms/step - loss: 0.8126\n",
            "Epoch 133/200\n",
            "6/6 [==============================] - 0s 3ms/step - loss: 0.9883\n",
            "Epoch 134/200\n",
            "6/6 [==============================] - 0s 2ms/step - loss: 1.0012\n",
            "Epoch 135/200\n",
            "6/6 [==============================] - 0s 2ms/step - loss: 1.0593\n",
            "Epoch 136/200\n",
            "6/6 [==============================] - 0s 3ms/step - loss: 0.8555\n",
            "Epoch 137/200\n",
            "6/6 [==============================] - 0s 3ms/step - loss: 0.8211\n",
            "Epoch 138/200\n",
            "6/6 [==============================] - 0s 4ms/step - loss: 0.6927\n",
            "Epoch 139/200\n",
            "6/6 [==============================] - 0s 3ms/step - loss: 0.9328\n",
            "Epoch 140/200\n",
            "6/6 [==============================] - 0s 3ms/step - loss: 0.9997\n",
            "Epoch 141/200\n",
            "6/6 [==============================] - 0s 3ms/step - loss: 0.8596\n",
            "Epoch 142/200\n",
            "6/6 [==============================] - 0s 2ms/step - loss: 0.9102\n",
            "Epoch 143/200\n",
            "6/6 [==============================] - 0s 3ms/step - loss: 0.7441\n",
            "Epoch 144/200\n",
            "6/6 [==============================] - 0s 3ms/step - loss: 0.8339\n",
            "Epoch 145/200\n",
            "6/6 [==============================] - 0s 3ms/step - loss: 1.0549\n",
            "Epoch 146/200\n",
            "6/6 [==============================] - 0s 3ms/step - loss: 0.8378\n",
            "Epoch 147/200\n",
            "6/6 [==============================] - 0s 4ms/step - loss: 0.7492\n",
            "Epoch 148/200\n",
            "6/6 [==============================] - 0s 4ms/step - loss: 1.1578\n",
            "Epoch 149/200\n",
            "6/6 [==============================] - 0s 4ms/step - loss: 0.8303\n",
            "Epoch 150/200\n",
            "6/6 [==============================] - 0s 3ms/step - loss: 0.9845\n",
            "Epoch 151/200\n",
            "6/6 [==============================] - 0s 3ms/step - loss: 0.8571\n",
            "Epoch 152/200\n",
            "6/6 [==============================] - 0s 3ms/step - loss: 0.9379\n",
            "Epoch 153/200\n",
            "6/6 [==============================] - 0s 3ms/step - loss: 1.0490\n",
            "Epoch 154/200\n",
            "6/6 [==============================] - 0s 2ms/step - loss: 0.8198\n",
            "Epoch 155/200\n",
            "6/6 [==============================] - 0s 2ms/step - loss: 0.7667\n",
            "Epoch 156/200\n",
            "6/6 [==============================] - 0s 2ms/step - loss: 0.7849\n",
            "Epoch 157/200\n",
            "6/6 [==============================] - 0s 2ms/step - loss: 0.7150\n",
            "Epoch 158/200\n",
            "6/6 [==============================] - 0s 3ms/step - loss: 0.8886\n",
            "Epoch 159/200\n",
            "6/6 [==============================] - 0s 3ms/step - loss: 0.6724\n",
            "Epoch 160/200\n",
            "6/6 [==============================] - 0s 3ms/step - loss: 0.8634\n",
            "Epoch 161/200\n",
            "6/6 [==============================] - 0s 2ms/step - loss: 0.9270\n",
            "Epoch 162/200\n",
            "6/6 [==============================] - 0s 4ms/step - loss: 0.9374\n",
            "Epoch 163/200\n",
            "6/6 [==============================] - 0s 3ms/step - loss: 0.6803\n",
            "Epoch 164/200\n",
            "6/6 [==============================] - 0s 3ms/step - loss: 0.9006\n",
            "Epoch 165/200\n",
            "6/6 [==============================] - 0s 3ms/step - loss: 1.0008\n",
            "Epoch 166/200\n",
            "6/6 [==============================] - 0s 3ms/step - loss: 0.8739\n",
            "Epoch 167/200\n",
            "6/6 [==============================] - 0s 2ms/step - loss: 0.9046\n",
            "Epoch 168/200\n",
            "6/6 [==============================] - 0s 3ms/step - loss: 0.9147\n",
            "Epoch 169/200\n",
            "6/6 [==============================] - 0s 2ms/step - loss: 0.9655\n",
            "Epoch 170/200\n",
            "6/6 [==============================] - 0s 3ms/step - loss: 1.1064\n",
            "Epoch 171/200\n",
            "6/6 [==============================] - 0s 2ms/step - loss: 0.7881\n",
            "Epoch 172/200\n",
            "6/6 [==============================] - 0s 4ms/step - loss: 0.7445\n",
            "Epoch 173/200\n",
            "6/6 [==============================] - 0s 3ms/step - loss: 0.7903\n",
            "Epoch 174/200\n",
            "6/6 [==============================] - 0s 3ms/step - loss: 1.0075\n",
            "Epoch 175/200\n",
            "6/6 [==============================] - 0s 3ms/step - loss: 0.9437\n",
            "Epoch 176/200\n",
            "6/6 [==============================] - 0s 4ms/step - loss: 0.8720\n",
            "Epoch 177/200\n",
            "6/6 [==============================] - 0s 4ms/step - loss: 0.8179\n",
            "Epoch 178/200\n",
            "6/6 [==============================] - 0s 3ms/step - loss: 0.8643\n",
            "Epoch 179/200\n",
            "6/6 [==============================] - 0s 2ms/step - loss: 0.9410\n",
            "Epoch 180/200\n",
            "6/6 [==============================] - 0s 3ms/step - loss: 0.7676\n",
            "Epoch 181/200\n",
            "6/6 [==============================] - 0s 4ms/step - loss: 0.7784\n",
            "Epoch 182/200\n",
            "6/6 [==============================] - 0s 2ms/step - loss: 1.0253\n",
            "Epoch 183/200\n",
            "6/6 [==============================] - 0s 5ms/step - loss: 0.8943\n",
            "Epoch 184/200\n",
            "6/6 [==============================] - 0s 2ms/step - loss: 0.9969\n",
            "Epoch 185/200\n",
            "6/6 [==============================] - 0s 2ms/step - loss: 0.9365\n",
            "Epoch 186/200\n",
            "6/6 [==============================] - 0s 4ms/step - loss: 0.8363\n",
            "Epoch 187/200\n",
            "6/6 [==============================] - 0s 3ms/step - loss: 0.8675\n",
            "Epoch 188/200\n",
            "6/6 [==============================] - 0s 2ms/step - loss: 0.9675\n",
            "Epoch 189/200\n",
            "6/6 [==============================] - 0s 3ms/step - loss: 0.8181\n",
            "Epoch 190/200\n",
            "6/6 [==============================] - 0s 3ms/step - loss: 1.0610\n",
            "Epoch 191/200\n",
            "6/6 [==============================] - 0s 2ms/step - loss: 0.8767\n",
            "Epoch 192/200\n",
            "6/6 [==============================] - 0s 2ms/step - loss: 0.8092\n",
            "Epoch 193/200\n",
            "6/6 [==============================] - 0s 3ms/step - loss: 0.9783\n",
            "Epoch 194/200\n",
            "6/6 [==============================] - 0s 3ms/step - loss: 1.0648\n",
            "Epoch 195/200\n",
            "6/6 [==============================] - 0s 4ms/step - loss: 0.9129\n",
            "Epoch 196/200\n",
            "6/6 [==============================] - 0s 3ms/step - loss: 0.7733\n",
            "Epoch 197/200\n",
            "6/6 [==============================] - 0s 3ms/step - loss: 0.9521\n",
            "Epoch 198/200\n",
            "6/6 [==============================] - 0s 3ms/step - loss: 0.8835\n",
            "Epoch 199/200\n",
            "6/6 [==============================] - 0s 3ms/step - loss: 0.8229\n",
            "Epoch 200/200\n",
            "6/6 [==============================] - 0s 3ms/step - loss: 0.9953\n"
          ],
          "name": "stdout"
        }
      ]
    },
    {
      "cell_type": "code",
      "metadata": {
        "colab": {
          "base_uri": "https://localhost:8080/",
          "height": 282
        },
        "id": "kK5T5sTShMVs",
        "outputId": "66bc89cf-8e42-4f5f-bf2c-c8a7cf553c63"
      },
      "source": [
        "# Plot the loss\n",
        "\n",
        "plt.plot(reg.history['loss'], label='loss')"
      ],
      "execution_count": 7,
      "outputs": [
        {
          "output_type": "execute_result",
          "data": {
            "text/plain": [
              "[<matplotlib.lines.Line2D at 0x7fb402331f90>]"
            ]
          },
          "metadata": {
            "tags": []
          },
          "execution_count": 7
        },
        {
          "output_type": "display_data",
          "data": {
            "image/png": "[encoded data removed]",
            "text/plain": [
              "<Figure size 432x288 with 1 Axes>"
            ]
          },
          "metadata": {
            "tags": [],
            "needs_background": "light"
          }
        }
      ]
    },
    {
      "cell_type": "code",
      "metadata": {
        "colab": {
          "base_uri": "https://localhost:8080/"
        },
        "id": "K6bqPCfehdUT",
        "outputId": "20fecb86-9ac2-48e7-94d4-c4d365e8cb49"
      },
      "source": [
        "# Getting slope of the reg line\n",
        "\n",
        "print(rmodel.layers[0].get_weights())"
      ],
      "execution_count": 8,
      "outputs": [
        {
          "output_type": "stream",
          "text": [
            "[array([[0.34419754]], dtype=float32), array([17.771002], dtype=float32)]\n"
          ],
          "name": "stdout"
        }
      ]
    },
    {
      "cell_type": "code",
      "metadata": {
        "colab": {
          "base_uri": "https://localhost:8080/",
          "height": 282
        },
        "id": "IqaYHmUxj8zk",
        "outputId": "930ba170-40aa-4b65-deb7-6d8ea57a3e0c"
      },
      "source": [
        "# Making Prediction\n",
        "\n",
        "OD = rmodel.predict(X).flatten()\n",
        "plt.scatter(X,Y)\n",
        "plt.plot(X,OD)"
      ],
      "execution_count": 9,
      "outputs": [
        {
          "output_type": "execute_result",
          "data": {
            "text/plain": [
              "[<matplotlib.lines.Line2D at 0x7fb40056df90>]"
            ]
          },
          "metadata": {
            "tags": []
          },
          "execution_count": 9
        },
        {
          "output_type": "display_data",
          "data": {
            "image/png": "[encoded data removed]",
            "text/plain": [
              "<Figure size 432x288 with 1 Axes>"
            ]
          },
          "metadata": {
            "tags": [],
            "needs_background": "light"
          }
        }
      ]
    },
    {
      "cell_type": "code",
      "metadata": {
        "colab": {
          "base_uri": "https://localhost:8080/",
          "height": 34
        },
        "id": "Je5y13fkoGe0",
        "outputId": "f648575e-f41f-4c29-b221-89f517d00076"
      },
      "source": [
        "# Saving Model\n",
        "\n",
        "rmodel.save('LinearRegressor.h5')\n",
        "\n",
        "# Checking model loading\n",
        "\n",
        "model = tf.keras.models.load_model('LinearRegressor.h5')\n",
        "print(model.layers)\n",
        "\n",
        "# Downloading Model\n",
        "\n",
        "from google.colab import files\n",
        "files.download('LinearRegressor.h5')"
      ],
      "execution_count": 10,
      "outputs": [
        {
          "output_type": "stream",
          "text": [
            "[<tensorflow.python.keras.layers.core.Dense object at 0x7fb4023ca510>]\n"
          ],
          "name": "stdout"
        },
        {
          "output_type": "display_data",
          "data": {
            "application/javascript": [
              "\n",
              "    async function download(id, filename, size) {\n",
              "      if (!google.colab.kernel.accessAllowed) {\n",
              "        return;\n",
              "      }\n",
              "      const div = document.createElement('div');\n",
              "      const label = document.createElement('label');\n",
              "      label.textContent = `Downloading \"${filename}\": `;\n",
              "      div.appendChild(label);\n",
              "      const progress = document.createElement('progress');\n",
              "      progress.max = size;\n",
              "      div.appendChild(progress);\n",
              "      document.body.appendChild(div);\n",
              "\n",
              "      const buffers = [];\n",
              "      let downloaded = 0;\n",
              "\n",
              "      const channel = await google.colab.kernel.comms.open(id);\n",
              "      // Send a message to notify the kernel that we're ready.\n",
              "      channel.send({})\n",
              "\n",
              "      for await (const message of channel.messages) {\n",
              "        // Send a message to notify the kernel that we're ready.\n",
              "        channel.send({})\n",
              "        if (message.buffers) {\n",
              "          for (const buffer of message.buffers) {\n",
              "            buffers.push(buffer);\n",
              "            downloaded += buffer.byteLength;\n",
              "            progress.value = downloaded;\n",
              "          }\n",
              "        }\n",
              "      }\n",
              "      const blob = new Blob(buffers, {type: 'application/binary'});\n",
              "      const a = document.createElement('a');\n",
              "      a.href = window.URL.createObjectURL(blob);\n",
              "      a.download = filename;\n",
              "      div.appendChild(a);\n",
              "      a.click();\n",
              "      div.remove();\n",
              "    }\n",
              "  "
            ],
            "text/plain": [
              "<IPython.core.display.Javascript object>"
            ]
          },
          "metadata": {
            "tags": []
          }
        },
        {
          "output_type": "display_data",
          "data": {
            "application/javascript": [
              "download(\"download_729b8ebb-ad06-4259-ae61-ab3f851a03f6\", \"LinearRegressor.h5\", 17912)"
            ],
            "text/plain": [
              "<IPython.core.display.Javascript object>"
            ]
          },
          "metadata": {
            "tags": []
          }
        }
      ]
    }
  ]
}