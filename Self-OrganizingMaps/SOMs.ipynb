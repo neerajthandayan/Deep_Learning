{
  "nbformat": 4,
  "nbformat_minor": 0,
  "metadata": {
    "colab": {
      "name": "SOMs.ipynb",
      "provenance": [],
      "toc_visible": true,
      "authorship_tag": "ABX9TyMtvUD9bbB42wC02id8BUl0",
      "include_colab_link": true
    },
    "kernelspec": {
      "name": "python3",
      "display_name": "Python 3"
    },
    "language_info": {
      "name": "python"
    }
  },
  "cells": [
    {
      "cell_type": "markdown",
      "metadata": {
        "id": "view-in-github",
        "colab_type": "text"
      },
      "source": [
        "<a href=\"https://colab.research.google.com/github/neerajthandayan/Deep_Learning/blob/main/Self-OrganizingMaps/SOMs.ipynb\" target=\"_parent\"><img src=\"https://colab.research.google.com/assets/colab-badge.svg\" alt=\"Open In Colab\"/></a>"
      ]
    },
    {
      "cell_type": "markdown",
      "metadata": {
        "id": "oP7tg-RRlj4z"
      },
      "source": [
        "# Self-Organizing Maps"
      ]
    },
    {
      "cell_type": "code",
      "metadata": {
        "id": "lfMuk_nlQakA"
      },
      "source": [
        "# Importing Libraries\n",
        "\n",
        "import numpy as np\n",
        "import pandas as pd\n",
        "import matplotlib.pyplot as plt\n",
        "from sklearn.preprocessing import MinMaxScaler"
      ],
      "execution_count": 1,
      "outputs": []
    },
    {
      "cell_type": "code",
      "metadata": {
        "colab": {
          "base_uri": "https://localhost:8080/"
        },
        "id": "cknVvJyBrDn2",
        "outputId": "24bb6969-8644-4485-95be-bff540c335fb"
      },
      "source": [
        "# Fetching data\n",
        "\n",
        "!wget \"https://archive.ics.uci.edu/ml/machine-learning-databases/statlog/australian/australian.dat\""
      ],
      "execution_count": 2,
      "outputs": [
        {
          "output_type": "stream",
          "text": [
            "--2021-05-25 15:35:58--  https://archive.ics.uci.edu/ml/machine-learning-databases/statlog/australian/australian.dat\n",
            "Resolving archive.ics.uci.edu (archive.ics.uci.edu)... 128.195.10.252\n",
            "Connecting to archive.ics.uci.edu (archive.ics.uci.edu)|128.195.10.252|:443... connected.\n",
            "HTTP request sent, awaiting response... 200 OK\n",
            "Length: 28735 (28K) [application/x-httpd-php]\n",
            "Saving to: ‘australian.dat.2’\n",
            "\n",
            "australian.dat.2    100%[===================>]  28.06K  --.-KB/s    in 0.07s   \n",
            "\n",
            "2021-05-25 15:35:58 (428 KB/s) - ‘australian.dat.2’ saved [28735/28735]\n",
            "\n"
          ],
          "name": "stdout"
        }
      ]
    },
    {
      "cell_type": "code",
      "metadata": {
        "colab": {
          "base_uri": "https://localhost:8080/",
          "height": 402
        },
        "id": "Ub43ZCU0sG12",
        "outputId": "1f955d7c-fbd8-4a5a-e64f-bfddd4ab0e4c"
      },
      "source": [
        "# Creating Data Frame\n",
        "\n",
        "data = pd.DataFrame(np.genfromtxt('australian.dat'))\n",
        "data"
      ],
      "execution_count": 3,
      "outputs": [
        {
          "output_type": "execute_result",
          "data": {
            "text/html": [
              "<div>\n",
              "<style scoped>\n",
              "    .dataframe tbody tr th:only-of-type {\n",
              "        vertical-align: middle;\n",
              "    }\n",
              "\n",
              "    .dataframe tbody tr th {\n",
              "        vertical-align: top;\n",
              "    }\n",
              "\n",
              "    .dataframe thead th {\n",
              "        text-align: right;\n",
              "    }\n",
              "</style>\n",
              "<table border=\"1\" class=\"dataframe\">\n",
              "  <thead>\n",
              "    <tr style=\"text-align: right;\">\n",
              "      <th></th>\n",
              "      <th>0</th>\n",
              "      <th>1</th>\n",
              "      <th>2</th>\n",
              "      <th>3</th>\n",
              "      <th>4</th>\n",
              "      <th>5</th>\n",
              "      <th>6</th>\n",
              "      <th>7</th>\n",
              "      <th>8</th>\n",
              "      <th>9</th>\n",
              "      <th>10</th>\n",
              "      <th>11</th>\n",
              "      <th>12</th>\n",
              "      <th>13</th>\n",
              "      <th>14</th>\n",
              "    </tr>\n",
              "  </thead>\n",
              "  <tbody>\n",
              "    <tr>\n",
              "      <th>0</th>\n",
              "      <td>1.0</td>\n",
              "      <td>22.08</td>\n",
              "      <td>11.460</td>\n",
              "      <td>2.0</td>\n",
              "      <td>4.0</td>\n",
              "      <td>4.0</td>\n",
              "      <td>1.585</td>\n",
              "      <td>0.0</td>\n",
              "      <td>0.0</td>\n",
              "      <td>0.0</td>\n",
              "      <td>1.0</td>\n",
              "      <td>2.0</td>\n",
              "      <td>100.0</td>\n",
              "      <td>1213.0</td>\n",
              "      <td>0.0</td>\n",
              "    </tr>\n",
              "    <tr>\n",
              "      <th>1</th>\n",
              "      <td>0.0</td>\n",
              "      <td>22.67</td>\n",
              "      <td>7.000</td>\n",
              "      <td>2.0</td>\n",
              "      <td>8.0</td>\n",
              "      <td>4.0</td>\n",
              "      <td>0.165</td>\n",
              "      <td>0.0</td>\n",
              "      <td>0.0</td>\n",
              "      <td>0.0</td>\n",
              "      <td>0.0</td>\n",
              "      <td>2.0</td>\n",
              "      <td>160.0</td>\n",
              "      <td>1.0</td>\n",
              "      <td>0.0</td>\n",
              "    </tr>\n",
              "    <tr>\n",
              "      <th>2</th>\n",
              "      <td>0.0</td>\n",
              "      <td>29.58</td>\n",
              "      <td>1.750</td>\n",
              "      <td>1.0</td>\n",
              "      <td>4.0</td>\n",
              "      <td>4.0</td>\n",
              "      <td>1.250</td>\n",
              "      <td>0.0</td>\n",
              "      <td>0.0</td>\n",
              "      <td>0.0</td>\n",
              "      <td>1.0</td>\n",
              "      <td>2.0</td>\n",
              "      <td>280.0</td>\n",
              "      <td>1.0</td>\n",
              "      <td>0.0</td>\n",
              "    </tr>\n",
              "    <tr>\n",
              "      <th>3</th>\n",
              "      <td>0.0</td>\n",
              "      <td>21.67</td>\n",
              "      <td>11.500</td>\n",
              "      <td>1.0</td>\n",
              "      <td>5.0</td>\n",
              "      <td>3.0</td>\n",
              "      <td>0.000</td>\n",
              "      <td>1.0</td>\n",
              "      <td>1.0</td>\n",
              "      <td>11.0</td>\n",
              "      <td>1.0</td>\n",
              "      <td>2.0</td>\n",
              "      <td>0.0</td>\n",
              "      <td>1.0</td>\n",
              "      <td>1.0</td>\n",
              "    </tr>\n",
              "    <tr>\n",
              "      <th>4</th>\n",
              "      <td>1.0</td>\n",
              "      <td>20.17</td>\n",
              "      <td>8.170</td>\n",
              "      <td>2.0</td>\n",
              "      <td>6.0</td>\n",
              "      <td>4.0</td>\n",
              "      <td>1.960</td>\n",
              "      <td>1.0</td>\n",
              "      <td>1.0</td>\n",
              "      <td>14.0</td>\n",
              "      <td>0.0</td>\n",
              "      <td>2.0</td>\n",
              "      <td>60.0</td>\n",
              "      <td>159.0</td>\n",
              "      <td>1.0</td>\n",
              "    </tr>\n",
              "    <tr>\n",
              "      <th>...</th>\n",
              "      <td>...</td>\n",
              "      <td>...</td>\n",
              "      <td>...</td>\n",
              "      <td>...</td>\n",
              "      <td>...</td>\n",
              "      <td>...</td>\n",
              "      <td>...</td>\n",
              "      <td>...</td>\n",
              "      <td>...</td>\n",
              "      <td>...</td>\n",
              "      <td>...</td>\n",
              "      <td>...</td>\n",
              "      <td>...</td>\n",
              "      <td>...</td>\n",
              "      <td>...</td>\n",
              "    </tr>\n",
              "    <tr>\n",
              "      <th>685</th>\n",
              "      <td>1.0</td>\n",
              "      <td>31.57</td>\n",
              "      <td>10.500</td>\n",
              "      <td>2.0</td>\n",
              "      <td>14.0</td>\n",
              "      <td>4.0</td>\n",
              "      <td>6.500</td>\n",
              "      <td>1.0</td>\n",
              "      <td>0.0</td>\n",
              "      <td>0.0</td>\n",
              "      <td>0.0</td>\n",
              "      <td>2.0</td>\n",
              "      <td>0.0</td>\n",
              "      <td>1.0</td>\n",
              "      <td>1.0</td>\n",
              "    </tr>\n",
              "    <tr>\n",
              "      <th>686</th>\n",
              "      <td>1.0</td>\n",
              "      <td>20.67</td>\n",
              "      <td>0.415</td>\n",
              "      <td>2.0</td>\n",
              "      <td>8.0</td>\n",
              "      <td>4.0</td>\n",
              "      <td>0.125</td>\n",
              "      <td>0.0</td>\n",
              "      <td>0.0</td>\n",
              "      <td>0.0</td>\n",
              "      <td>0.0</td>\n",
              "      <td>2.0</td>\n",
              "      <td>0.0</td>\n",
              "      <td>45.0</td>\n",
              "      <td>0.0</td>\n",
              "    </tr>\n",
              "    <tr>\n",
              "      <th>687</th>\n",
              "      <td>0.0</td>\n",
              "      <td>18.83</td>\n",
              "      <td>9.540</td>\n",
              "      <td>2.0</td>\n",
              "      <td>6.0</td>\n",
              "      <td>4.0</td>\n",
              "      <td>0.085</td>\n",
              "      <td>1.0</td>\n",
              "      <td>0.0</td>\n",
              "      <td>0.0</td>\n",
              "      <td>0.0</td>\n",
              "      <td>2.0</td>\n",
              "      <td>100.0</td>\n",
              "      <td>1.0</td>\n",
              "      <td>1.0</td>\n",
              "    </tr>\n",
              "    <tr>\n",
              "      <th>688</th>\n",
              "      <td>0.0</td>\n",
              "      <td>27.42</td>\n",
              "      <td>14.500</td>\n",
              "      <td>2.0</td>\n",
              "      <td>14.0</td>\n",
              "      <td>8.0</td>\n",
              "      <td>3.085</td>\n",
              "      <td>1.0</td>\n",
              "      <td>1.0</td>\n",
              "      <td>1.0</td>\n",
              "      <td>0.0</td>\n",
              "      <td>2.0</td>\n",
              "      <td>120.0</td>\n",
              "      <td>12.0</td>\n",
              "      <td>1.0</td>\n",
              "    </tr>\n",
              "    <tr>\n",
              "      <th>689</th>\n",
              "      <td>1.0</td>\n",
              "      <td>41.00</td>\n",
              "      <td>0.040</td>\n",
              "      <td>2.0</td>\n",
              "      <td>10.0</td>\n",
              "      <td>4.0</td>\n",
              "      <td>0.040</td>\n",
              "      <td>0.0</td>\n",
              "      <td>1.0</td>\n",
              "      <td>1.0</td>\n",
              "      <td>0.0</td>\n",
              "      <td>1.0</td>\n",
              "      <td>560.0</td>\n",
              "      <td>1.0</td>\n",
              "      <td>1.0</td>\n",
              "    </tr>\n",
              "  </tbody>\n",
              "</table>\n",
              "<p>690 rows × 15 columns</p>\n",
              "</div>"
            ],
            "text/plain": [
              "      0      1       2    3     4    5   ...    9    10   11     12      13   14\n",
              "0    1.0  22.08  11.460  2.0   4.0  4.0  ...   0.0  1.0  2.0  100.0  1213.0  0.0\n",
              "1    0.0  22.67   7.000  2.0   8.0  4.0  ...   0.0  0.0  2.0  160.0     1.0  0.0\n",
              "2    0.0  29.58   1.750  1.0   4.0  4.0  ...   0.0  1.0  2.0  280.0     1.0  0.0\n",
              "3    0.0  21.67  11.500  1.0   5.0  3.0  ...  11.0  1.0  2.0    0.0     1.0  1.0\n",
              "4    1.0  20.17   8.170  2.0   6.0  4.0  ...  14.0  0.0  2.0   60.0   159.0  1.0\n",
              "..   ...    ...     ...  ...   ...  ...  ...   ...  ...  ...    ...     ...  ...\n",
              "685  1.0  31.57  10.500  2.0  14.0  4.0  ...   0.0  0.0  2.0    0.0     1.0  1.0\n",
              "686  1.0  20.67   0.415  2.0   8.0  4.0  ...   0.0  0.0  2.0    0.0    45.0  0.0\n",
              "687  0.0  18.83   9.540  2.0   6.0  4.0  ...   0.0  0.0  2.0  100.0     1.0  1.0\n",
              "688  0.0  27.42  14.500  2.0  14.0  8.0  ...   1.0  0.0  2.0  120.0    12.0  1.0\n",
              "689  1.0  41.00   0.040  2.0  10.0  4.0  ...   1.0  0.0  1.0  560.0     1.0  1.0\n",
              "\n",
              "[690 rows x 15 columns]"
            ]
          },
          "metadata": {
            "tags": []
          },
          "execution_count": 3
        }
      ]
    },
    {
      "cell_type": "code",
      "metadata": {
        "id": "_l8Sv5la7vfS"
      },
      "source": [
        "# Adding Customer ID Column\n",
        "\n",
        "data['CustomerID'] = np.random.randint(1000, 9999,len(data))"
      ],
      "execution_count": 4,
      "outputs": []
    },
    {
      "cell_type": "code",
      "metadata": {
        "id": "fad_bihP8hF-"
      },
      "source": [
        "# Creating X & Y values\n",
        "X = data.drop(columns=[14]).values\n",
        "Y = data[14].astype(int).values"
      ],
      "execution_count": 5,
      "outputs": []
    },
    {
      "cell_type": "code",
      "metadata": {
        "id": "kFp-mqdE-P1B"
      },
      "source": [
        "# Feature Scaling\n",
        "\n",
        "sc = MinMaxScaler(feature_range=(0,1))\n",
        "X_scaled = sc.fit_transform(X)"
      ],
      "execution_count": 6,
      "outputs": []
    },
    {
      "cell_type": "code",
      "metadata": {
        "colab": {
          "base_uri": "https://localhost:8080/"
        },
        "id": "S3sm92wj-8Vk",
        "outputId": "6b2d81d4-6e6b-47de-c7b5-a9c5f73c468e"
      },
      "source": [
        "!pip install MiniSom"
      ],
      "execution_count": 7,
      "outputs": [
        {
          "output_type": "stream",
          "text": [
            "Requirement already satisfied: MiniSom in /usr/local/lib/python3.7/dist-packages (2.2.9)\n"
          ],
          "name": "stdout"
        }
      ]
    },
    {
      "cell_type": "code",
      "metadata": {
        "id": "vjTa67Di-qce"
      },
      "source": [
        "# Training The SOM\n",
        "\n",
        "from minisom import MiniSom\n",
        "som = MiniSom(10, 10, input_len = 15)\n",
        "som.random_weights_init(X_scaled)\n",
        "som.train_random(X_scaled, 100)"
      ],
      "execution_count": 8,
      "outputs": []
    },
    {
      "cell_type": "code",
      "metadata": {
        "colab": {
          "base_uri": "https://localhost:8080/",
          "height": 269
        },
        "id": "_MAFSnz9A5gx",
        "outputId": "fdfa710f-0924-4c5b-fc92-a22179f16254"
      },
      "source": [
        "# Visaulising Results\n",
        "from pylab import bone, pcolor, colorbar, plot, show\n",
        "\n",
        "bone()\n",
        "pcolor(som.distance_map().T)\n",
        "colorbar()\n",
        "markers = ['o','s']\n",
        "colors = ['r','g']\n",
        "for p,q in enumerate(X_scaled):\n",
        "  w = som.winner(q)\n",
        "  plot(w[0] + 0.5,\n",
        "       w[1] + 0.5,\n",
        "       markers[Y[p]],\n",
        "       markeredgecolor = colors[Y[p]],\n",
        "       markerfacecolor = 'None',\n",
        "       markersize = 10,\n",
        "       markeredgewidth = 2) "
      ],
      "execution_count": 9,
      "outputs": [
        {
          "output_type": "display_data",
          "data": {
            "image/png": "[encoded data removed]",
            "text/plain": [
              "<Figure size 432x288 with 2 Axes>"
            ]
          },
          "metadata": {
            "tags": [],
            "needs_background": "light"
          }
        }
      ]
    },
    {
      "cell_type": "code",
      "metadata": {
        "colab": {
          "base_uri": "https://localhost:8080/"
        },
        "id": "r9yqn6LuHqWJ",
        "outputId": "958c490c-ada3-4871-fbfb-d694d0777054"
      },
      "source": [
        "# Fraud Detection\n",
        "\n",
        "mappings = som.win_map(X_scaled)\n",
        "fraud = np.concatenate((mappings[(8,1)], mappings[(6,8)]), axis= 0)\n",
        "fraud = sc.inverse_transform(fraud)\n",
        "pd.DataFrame(fraud).iloc[:,-1]"
      ],
      "execution_count": 23,
      "outputs": [
        {
          "output_type": "execute_result",
          "data": {
            "text/plain": [
              "0     9362.0\n",
              "1     6540.0\n",
              "2     9793.0\n",
              "3     7643.0\n",
              "4     5124.0\n",
              "5     6757.0\n",
              "6     6960.0\n",
              "7     7938.0\n",
              "8     7302.0\n",
              "9     7566.0\n",
              "10    4727.0\n",
              "11    5542.0\n",
              "12    5552.0\n",
              "13    5264.0\n",
              "14    6470.0\n",
              "15    5044.0\n",
              "16    5638.0\n",
              "17    6867.0\n",
              "18    3112.0\n",
              "19    1956.0\n",
              "20    4818.0\n",
              "21    9880.0\n",
              "22    2322.0\n",
              "23    9024.0\n",
              "24    6433.0\n",
              "25    2446.0\n",
              "26    1388.0\n",
              "27    4014.0\n",
              "28    1396.0\n",
              "29    2977.0\n",
              "30    2040.0\n",
              "31    1666.0\n",
              "32    8360.0\n",
              "33    3756.0\n",
              "34    5155.0\n",
              "35    1845.0\n",
              "36    3416.0\n",
              "37    1068.0\n",
              "38    7150.0\n",
              "39    7047.0\n",
              "40    6444.0\n",
              "41    6890.0\n",
              "42    9687.0\n",
              "43    2580.0\n",
              "44    5936.0\n",
              "Name: 14, dtype: float64"
            ]
          },
          "metadata": {
            "tags": []
          },
          "execution_count": 23
        }
      ]
    }
  ]
}